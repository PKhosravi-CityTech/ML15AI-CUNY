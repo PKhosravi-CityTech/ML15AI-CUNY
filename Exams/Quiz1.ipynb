{
  "nbformat": 4,
  "nbformat_minor": 0,
  "metadata": {
    "colab": {
      "provenance": []
    },
    "kernelspec": {
      "name": "python3",
      "display_name": "Python 3"
    },
    "language_info": {
      "name": "python"
    },
    "widgets": {
      "application/vnd.jupyter.widget-state+json": {
        "eb7fab6669864687ad765ac616cf182f": {
          "model_module": "@jupyter-widgets/controls",
          "model_name": "ButtonModel",
          "model_module_version": "1.5.0",
          "state": {
            "_dom_classes": [],
            "_model_module": "@jupyter-widgets/controls",
            "_model_module_version": "1.5.0",
            "_model_name": "ButtonModel",
            "_view_count": null,
            "_view_module": "@jupyter-widgets/controls",
            "_view_module_version": "1.5.0",
            "_view_name": "ButtonView",
            "button_style": "",
            "description": "Click to Reveal Answer",
            "disabled": false,
            "icon": "",
            "layout": "IPY_MODEL_1b7abb726c4a40d98aae4b7566acaeda",
            "style": "IPY_MODEL_8f8bf323d47140c58e59899e8f260dfc",
            "tooltip": ""
          }
        },
        "1b7abb726c4a40d98aae4b7566acaeda": {
          "model_module": "@jupyter-widgets/base",
          "model_name": "LayoutModel",
          "model_module_version": "1.2.0",
          "state": {
            "_model_module": "@jupyter-widgets/base",
            "_model_module_version": "1.2.0",
            "_model_name": "LayoutModel",
            "_view_count": null,
            "_view_module": "@jupyter-widgets/base",
            "_view_module_version": "1.2.0",
            "_view_name": "LayoutView",
            "align_content": null,
            "align_items": null,
            "align_self": null,
            "border": null,
            "bottom": null,
            "display": null,
            "flex": null,
            "flex_flow": null,
            "grid_area": null,
            "grid_auto_columns": null,
            "grid_auto_flow": null,
            "grid_auto_rows": null,
            "grid_column": null,
            "grid_gap": null,
            "grid_row": null,
            "grid_template_areas": null,
            "grid_template_columns": null,
            "grid_template_rows": null,
            "height": null,
            "justify_content": null,
            "justify_items": null,
            "left": null,
            "margin": null,
            "max_height": null,
            "max_width": null,
            "min_height": null,
            "min_width": null,
            "object_fit": null,
            "object_position": null,
            "order": null,
            "overflow": null,
            "overflow_x": null,
            "overflow_y": null,
            "padding": null,
            "right": null,
            "top": null,
            "visibility": null,
            "width": null
          }
        },
        "8f8bf323d47140c58e59899e8f260dfc": {
          "model_module": "@jupyter-widgets/controls",
          "model_name": "ButtonStyleModel",
          "model_module_version": "1.5.0",
          "state": {
            "_model_module": "@jupyter-widgets/controls",
            "_model_module_version": "1.5.0",
            "_model_name": "ButtonStyleModel",
            "_view_count": null,
            "_view_module": "@jupyter-widgets/base",
            "_view_module_version": "1.2.0",
            "_view_name": "StyleView",
            "button_color": null,
            "font_weight": ""
          }
        },
        "6c59ad3742744191a66fec68285b7b91": {
          "model_module": "@jupyter-widgets/output",
          "model_name": "OutputModel",
          "model_module_version": "1.0.0",
          "state": {
            "_dom_classes": [],
            "_model_module": "@jupyter-widgets/output",
            "_model_module_version": "1.0.0",
            "_model_name": "OutputModel",
            "_view_count": null,
            "_view_module": "@jupyter-widgets/output",
            "_view_module_version": "1.0.0",
            "_view_name": "OutputView",
            "layout": "IPY_MODEL_5cc8c0120ccd434da947e33e234aea27",
            "msg_id": "",
            "outputs": []
          }
        },
        "5cc8c0120ccd434da947e33e234aea27": {
          "model_module": "@jupyter-widgets/base",
          "model_name": "LayoutModel",
          "model_module_version": "1.2.0",
          "state": {
            "_model_module": "@jupyter-widgets/base",
            "_model_module_version": "1.2.0",
            "_model_name": "LayoutModel",
            "_view_count": null,
            "_view_module": "@jupyter-widgets/base",
            "_view_module_version": "1.2.0",
            "_view_name": "LayoutView",
            "align_content": null,
            "align_items": null,
            "align_self": null,
            "border": null,
            "bottom": null,
            "display": null,
            "flex": null,
            "flex_flow": null,
            "grid_area": null,
            "grid_auto_columns": null,
            "grid_auto_flow": null,
            "grid_auto_rows": null,
            "grid_column": null,
            "grid_gap": null,
            "grid_row": null,
            "grid_template_areas": null,
            "grid_template_columns": null,
            "grid_template_rows": null,
            "height": null,
            "justify_content": null,
            "justify_items": null,
            "left": null,
            "margin": null,
            "max_height": null,
            "max_width": null,
            "min_height": null,
            "min_width": null,
            "object_fit": null,
            "object_position": null,
            "order": null,
            "overflow": null,
            "overflow_x": null,
            "overflow_y": null,
            "padding": null,
            "right": null,
            "top": null,
            "visibility": null,
            "width": null
          }
        },
        "76c51bf57dee4f95b8afafefe35045b4": {
          "model_module": "@jupyter-widgets/controls",
          "model_name": "ButtonModel",
          "model_module_version": "1.5.0",
          "state": {
            "_dom_classes": [],
            "_model_module": "@jupyter-widgets/controls",
            "_model_module_version": "1.5.0",
            "_model_name": "ButtonModel",
            "_view_count": null,
            "_view_module": "@jupyter-widgets/controls",
            "_view_module_version": "1.5.0",
            "_view_name": "ButtonView",
            "button_style": "",
            "description": "Click to Reveal Answer",
            "disabled": false,
            "icon": "",
            "layout": "IPY_MODEL_6a0a6a853a104d1c988ac2b61c0cdd5c",
            "style": "IPY_MODEL_9a416ad0ab9949358bc9e16a7a201af1",
            "tooltip": ""
          }
        },
        "6a0a6a853a104d1c988ac2b61c0cdd5c": {
          "model_module": "@jupyter-widgets/base",
          "model_name": "LayoutModel",
          "model_module_version": "1.2.0",
          "state": {
            "_model_module": "@jupyter-widgets/base",
            "_model_module_version": "1.2.0",
            "_model_name": "LayoutModel",
            "_view_count": null,
            "_view_module": "@jupyter-widgets/base",
            "_view_module_version": "1.2.0",
            "_view_name": "LayoutView",
            "align_content": null,
            "align_items": null,
            "align_self": null,
            "border": null,
            "bottom": null,
            "display": null,
            "flex": null,
            "flex_flow": null,
            "grid_area": null,
            "grid_auto_columns": null,
            "grid_auto_flow": null,
            "grid_auto_rows": null,
            "grid_column": null,
            "grid_gap": null,
            "grid_row": null,
            "grid_template_areas": null,
            "grid_template_columns": null,
            "grid_template_rows": null,
            "height": null,
            "justify_content": null,
            "justify_items": null,
            "left": null,
            "margin": null,
            "max_height": null,
            "max_width": null,
            "min_height": null,
            "min_width": null,
            "object_fit": null,
            "object_position": null,
            "order": null,
            "overflow": null,
            "overflow_x": null,
            "overflow_y": null,
            "padding": null,
            "right": null,
            "top": null,
            "visibility": null,
            "width": null
          }
        },
        "9a416ad0ab9949358bc9e16a7a201af1": {
          "model_module": "@jupyter-widgets/controls",
          "model_name": "ButtonStyleModel",
          "model_module_version": "1.5.0",
          "state": {
            "_model_module": "@jupyter-widgets/controls",
            "_model_module_version": "1.5.0",
            "_model_name": "ButtonStyleModel",
            "_view_count": null,
            "_view_module": "@jupyter-widgets/base",
            "_view_module_version": "1.2.0",
            "_view_name": "StyleView",
            "button_color": null,
            "font_weight": ""
          }
        },
        "7dd4e19cdc5a493dab30331fc0d4347d": {
          "model_module": "@jupyter-widgets/output",
          "model_name": "OutputModel",
          "model_module_version": "1.0.0",
          "state": {
            "_dom_classes": [],
            "_model_module": "@jupyter-widgets/output",
            "_model_module_version": "1.0.0",
            "_model_name": "OutputModel",
            "_view_count": null,
            "_view_module": "@jupyter-widgets/output",
            "_view_module_version": "1.0.0",
            "_view_name": "OutputView",
            "layout": "IPY_MODEL_ed9f1d79b3d24779b08655f2c2fe305f",
            "msg_id": "",
            "outputs": []
          }
        },
        "ed9f1d79b3d24779b08655f2c2fe305f": {
          "model_module": "@jupyter-widgets/base",
          "model_name": "LayoutModel",
          "model_module_version": "1.2.0",
          "state": {
            "_model_module": "@jupyter-widgets/base",
            "_model_module_version": "1.2.0",
            "_model_name": "LayoutModel",
            "_view_count": null,
            "_view_module": "@jupyter-widgets/base",
            "_view_module_version": "1.2.0",
            "_view_name": "LayoutView",
            "align_content": null,
            "align_items": null,
            "align_self": null,
            "border": null,
            "bottom": null,
            "display": null,
            "flex": null,
            "flex_flow": null,
            "grid_area": null,
            "grid_auto_columns": null,
            "grid_auto_flow": null,
            "grid_auto_rows": null,
            "grid_column": null,
            "grid_gap": null,
            "grid_row": null,
            "grid_template_areas": null,
            "grid_template_columns": null,
            "grid_template_rows": null,
            "height": null,
            "justify_content": null,
            "justify_items": null,
            "left": null,
            "margin": null,
            "max_height": null,
            "max_width": null,
            "min_height": null,
            "min_width": null,
            "object_fit": null,
            "object_position": null,
            "order": null,
            "overflow": null,
            "overflow_x": null,
            "overflow_y": null,
            "padding": null,
            "right": null,
            "top": null,
            "visibility": null,
            "width": null
          }
        },
        "ce91eb29ffd74cac9333abe0467cee70": {
          "model_module": "@jupyter-widgets/controls",
          "model_name": "ButtonModel",
          "model_module_version": "1.5.0",
          "state": {
            "_dom_classes": [],
            "_model_module": "@jupyter-widgets/controls",
            "_model_module_version": "1.5.0",
            "_model_name": "ButtonModel",
            "_view_count": null,
            "_view_module": "@jupyter-widgets/controls",
            "_view_module_version": "1.5.0",
            "_view_name": "ButtonView",
            "button_style": "",
            "description": "Click to Reveal Answer",
            "disabled": false,
            "icon": "",
            "layout": "IPY_MODEL_ded44e4a3fb341bbb957940cd2b32156",
            "style": "IPY_MODEL_c360f83ec94644088151a53186faf620",
            "tooltip": ""
          }
        },
        "ded44e4a3fb341bbb957940cd2b32156": {
          "model_module": "@jupyter-widgets/base",
          "model_name": "LayoutModel",
          "model_module_version": "1.2.0",
          "state": {
            "_model_module": "@jupyter-widgets/base",
            "_model_module_version": "1.2.0",
            "_model_name": "LayoutModel",
            "_view_count": null,
            "_view_module": "@jupyter-widgets/base",
            "_view_module_version": "1.2.0",
            "_view_name": "LayoutView",
            "align_content": null,
            "align_items": null,
            "align_self": null,
            "border": null,
            "bottom": null,
            "display": null,
            "flex": null,
            "flex_flow": null,
            "grid_area": null,
            "grid_auto_columns": null,
            "grid_auto_flow": null,
            "grid_auto_rows": null,
            "grid_column": null,
            "grid_gap": null,
            "grid_row": null,
            "grid_template_areas": null,
            "grid_template_columns": null,
            "grid_template_rows": null,
            "height": null,
            "justify_content": null,
            "justify_items": null,
            "left": null,
            "margin": null,
            "max_height": null,
            "max_width": null,
            "min_height": null,
            "min_width": null,
            "object_fit": null,
            "object_position": null,
            "order": null,
            "overflow": null,
            "overflow_x": null,
            "overflow_y": null,
            "padding": null,
            "right": null,
            "top": null,
            "visibility": null,
            "width": null
          }
        },
        "c360f83ec94644088151a53186faf620": {
          "model_module": "@jupyter-widgets/controls",
          "model_name": "ButtonStyleModel",
          "model_module_version": "1.5.0",
          "state": {
            "_model_module": "@jupyter-widgets/controls",
            "_model_module_version": "1.5.0",
            "_model_name": "ButtonStyleModel",
            "_view_count": null,
            "_view_module": "@jupyter-widgets/base",
            "_view_module_version": "1.2.0",
            "_view_name": "StyleView",
            "button_color": null,
            "font_weight": ""
          }
        },
        "226a3c42e9ef47c78d9a3d8f86006e9a": {
          "model_module": "@jupyter-widgets/output",
          "model_name": "OutputModel",
          "model_module_version": "1.0.0",
          "state": {
            "_dom_classes": [],
            "_model_module": "@jupyter-widgets/output",
            "_model_module_version": "1.0.0",
            "_model_name": "OutputModel",
            "_view_count": null,
            "_view_module": "@jupyter-widgets/output",
            "_view_module_version": "1.0.0",
            "_view_name": "OutputView",
            "layout": "IPY_MODEL_55c276cdb3f54750b1a76951bb83bd2b",
            "msg_id": "",
            "outputs": []
          }
        },
        "55c276cdb3f54750b1a76951bb83bd2b": {
          "model_module": "@jupyter-widgets/base",
          "model_name": "LayoutModel",
          "model_module_version": "1.2.0",
          "state": {
            "_model_module": "@jupyter-widgets/base",
            "_model_module_version": "1.2.0",
            "_model_name": "LayoutModel",
            "_view_count": null,
            "_view_module": "@jupyter-widgets/base",
            "_view_module_version": "1.2.0",
            "_view_name": "LayoutView",
            "align_content": null,
            "align_items": null,
            "align_self": null,
            "border": null,
            "bottom": null,
            "display": null,
            "flex": null,
            "flex_flow": null,
            "grid_area": null,
            "grid_auto_columns": null,
            "grid_auto_flow": null,
            "grid_auto_rows": null,
            "grid_column": null,
            "grid_gap": null,
            "grid_row": null,
            "grid_template_areas": null,
            "grid_template_columns": null,
            "grid_template_rows": null,
            "height": null,
            "justify_content": null,
            "justify_items": null,
            "left": null,
            "margin": null,
            "max_height": null,
            "max_width": null,
            "min_height": null,
            "min_width": null,
            "object_fit": null,
            "object_position": null,
            "order": null,
            "overflow": null,
            "overflow_x": null,
            "overflow_y": null,
            "padding": null,
            "right": null,
            "top": null,
            "visibility": null,
            "width": null
          }
        },
        "4782ca4c2662453ba407d4b6a82c3331": {
          "model_module": "@jupyter-widgets/controls",
          "model_name": "ButtonModel",
          "model_module_version": "1.5.0",
          "state": {
            "_dom_classes": [],
            "_model_module": "@jupyter-widgets/controls",
            "_model_module_version": "1.5.0",
            "_model_name": "ButtonModel",
            "_view_count": null,
            "_view_module": "@jupyter-widgets/controls",
            "_view_module_version": "1.5.0",
            "_view_name": "ButtonView",
            "button_style": "",
            "description": "Click to Reveal Answer",
            "disabled": false,
            "icon": "",
            "layout": "IPY_MODEL_ec40e3d1fe644c759a8ebde1ac2744df",
            "style": "IPY_MODEL_15d39923bfcf423fa49b02674d83d377",
            "tooltip": ""
          }
        },
        "ec40e3d1fe644c759a8ebde1ac2744df": {
          "model_module": "@jupyter-widgets/base",
          "model_name": "LayoutModel",
          "model_module_version": "1.2.0",
          "state": {
            "_model_module": "@jupyter-widgets/base",
            "_model_module_version": "1.2.0",
            "_model_name": "LayoutModel",
            "_view_count": null,
            "_view_module": "@jupyter-widgets/base",
            "_view_module_version": "1.2.0",
            "_view_name": "LayoutView",
            "align_content": null,
            "align_items": null,
            "align_self": null,
            "border": null,
            "bottom": null,
            "display": null,
            "flex": null,
            "flex_flow": null,
            "grid_area": null,
            "grid_auto_columns": null,
            "grid_auto_flow": null,
            "grid_auto_rows": null,
            "grid_column": null,
            "grid_gap": null,
            "grid_row": null,
            "grid_template_areas": null,
            "grid_template_columns": null,
            "grid_template_rows": null,
            "height": null,
            "justify_content": null,
            "justify_items": null,
            "left": null,
            "margin": null,
            "max_height": null,
            "max_width": null,
            "min_height": null,
            "min_width": null,
            "object_fit": null,
            "object_position": null,
            "order": null,
            "overflow": null,
            "overflow_x": null,
            "overflow_y": null,
            "padding": null,
            "right": null,
            "top": null,
            "visibility": null,
            "width": null
          }
        },
        "15d39923bfcf423fa49b02674d83d377": {
          "model_module": "@jupyter-widgets/controls",
          "model_name": "ButtonStyleModel",
          "model_module_version": "1.5.0",
          "state": {
            "_model_module": "@jupyter-widgets/controls",
            "_model_module_version": "1.5.0",
            "_model_name": "ButtonStyleModel",
            "_view_count": null,
            "_view_module": "@jupyter-widgets/base",
            "_view_module_version": "1.2.0",
            "_view_name": "StyleView",
            "button_color": null,
            "font_weight": ""
          }
        },
        "7bf5cac3546346149c9fce6264bf1824": {
          "model_module": "@jupyter-widgets/output",
          "model_name": "OutputModel",
          "model_module_version": "1.0.0",
          "state": {
            "_dom_classes": [],
            "_model_module": "@jupyter-widgets/output",
            "_model_module_version": "1.0.0",
            "_model_name": "OutputModel",
            "_view_count": null,
            "_view_module": "@jupyter-widgets/output",
            "_view_module_version": "1.0.0",
            "_view_name": "OutputView",
            "layout": "IPY_MODEL_b9c6073a2a854ec69082e6327292d00e",
            "msg_id": "",
            "outputs": []
          }
        },
        "b9c6073a2a854ec69082e6327292d00e": {
          "model_module": "@jupyter-widgets/base",
          "model_name": "LayoutModel",
          "model_module_version": "1.2.0",
          "state": {
            "_model_module": "@jupyter-widgets/base",
            "_model_module_version": "1.2.0",
            "_model_name": "LayoutModel",
            "_view_count": null,
            "_view_module": "@jupyter-widgets/base",
            "_view_module_version": "1.2.0",
            "_view_name": "LayoutView",
            "align_content": null,
            "align_items": null,
            "align_self": null,
            "border": null,
            "bottom": null,
            "display": null,
            "flex": null,
            "flex_flow": null,
            "grid_area": null,
            "grid_auto_columns": null,
            "grid_auto_flow": null,
            "grid_auto_rows": null,
            "grid_column": null,
            "grid_gap": null,
            "grid_row": null,
            "grid_template_areas": null,
            "grid_template_columns": null,
            "grid_template_rows": null,
            "height": null,
            "justify_content": null,
            "justify_items": null,
            "left": null,
            "margin": null,
            "max_height": null,
            "max_width": null,
            "min_height": null,
            "min_width": null,
            "object_fit": null,
            "object_position": null,
            "order": null,
            "overflow": null,
            "overflow_x": null,
            "overflow_y": null,
            "padding": null,
            "right": null,
            "top": null,
            "visibility": null,
            "width": null
          }
        },
        "fa13428796c64ddd857c67fa11aa8380": {
          "model_module": "@jupyter-widgets/controls",
          "model_name": "ButtonModel",
          "model_module_version": "1.5.0",
          "state": {
            "_dom_classes": [],
            "_model_module": "@jupyter-widgets/controls",
            "_model_module_version": "1.5.0",
            "_model_name": "ButtonModel",
            "_view_count": null,
            "_view_module": "@jupyter-widgets/controls",
            "_view_module_version": "1.5.0",
            "_view_name": "ButtonView",
            "button_style": "",
            "description": "Click to Reveal Answer",
            "disabled": false,
            "icon": "",
            "layout": "IPY_MODEL_98dc6b787b9a4d0182f6038f1c28e9e8",
            "style": "IPY_MODEL_98327c6ca2c14db3a6baa7f822b74e15",
            "tooltip": ""
          }
        },
        "98dc6b787b9a4d0182f6038f1c28e9e8": {
          "model_module": "@jupyter-widgets/base",
          "model_name": "LayoutModel",
          "model_module_version": "1.2.0",
          "state": {
            "_model_module": "@jupyter-widgets/base",
            "_model_module_version": "1.2.0",
            "_model_name": "LayoutModel",
            "_view_count": null,
            "_view_module": "@jupyter-widgets/base",
            "_view_module_version": "1.2.0",
            "_view_name": "LayoutView",
            "align_content": null,
            "align_items": null,
            "align_self": null,
            "border": null,
            "bottom": null,
            "display": null,
            "flex": null,
            "flex_flow": null,
            "grid_area": null,
            "grid_auto_columns": null,
            "grid_auto_flow": null,
            "grid_auto_rows": null,
            "grid_column": null,
            "grid_gap": null,
            "grid_row": null,
            "grid_template_areas": null,
            "grid_template_columns": null,
            "grid_template_rows": null,
            "height": null,
            "justify_content": null,
            "justify_items": null,
            "left": null,
            "margin": null,
            "max_height": null,
            "max_width": null,
            "min_height": null,
            "min_width": null,
            "object_fit": null,
            "object_position": null,
            "order": null,
            "overflow": null,
            "overflow_x": null,
            "overflow_y": null,
            "padding": null,
            "right": null,
            "top": null,
            "visibility": null,
            "width": null
          }
        },
        "98327c6ca2c14db3a6baa7f822b74e15": {
          "model_module": "@jupyter-widgets/controls",
          "model_name": "ButtonStyleModel",
          "model_module_version": "1.5.0",
          "state": {
            "_model_module": "@jupyter-widgets/controls",
            "_model_module_version": "1.5.0",
            "_model_name": "ButtonStyleModel",
            "_view_count": null,
            "_view_module": "@jupyter-widgets/base",
            "_view_module_version": "1.2.0",
            "_view_name": "StyleView",
            "button_color": null,
            "font_weight": ""
          }
        },
        "da1c78688ab44bcc922b7c1185a54ba6": {
          "model_module": "@jupyter-widgets/output",
          "model_name": "OutputModel",
          "model_module_version": "1.0.0",
          "state": {
            "_dom_classes": [],
            "_model_module": "@jupyter-widgets/output",
            "_model_module_version": "1.0.0",
            "_model_name": "OutputModel",
            "_view_count": null,
            "_view_module": "@jupyter-widgets/output",
            "_view_module_version": "1.0.0",
            "_view_name": "OutputView",
            "layout": "IPY_MODEL_bdc36e9b0e8446e6b4a6b3549076c760",
            "msg_id": "",
            "outputs": []
          }
        },
        "bdc36e9b0e8446e6b4a6b3549076c760": {
          "model_module": "@jupyter-widgets/base",
          "model_name": "LayoutModel",
          "model_module_version": "1.2.0",
          "state": {
            "_model_module": "@jupyter-widgets/base",
            "_model_module_version": "1.2.0",
            "_model_name": "LayoutModel",
            "_view_count": null,
            "_view_module": "@jupyter-widgets/base",
            "_view_module_version": "1.2.0",
            "_view_name": "LayoutView",
            "align_content": null,
            "align_items": null,
            "align_self": null,
            "border": null,
            "bottom": null,
            "display": null,
            "flex": null,
            "flex_flow": null,
            "grid_area": null,
            "grid_auto_columns": null,
            "grid_auto_flow": null,
            "grid_auto_rows": null,
            "grid_column": null,
            "grid_gap": null,
            "grid_row": null,
            "grid_template_areas": null,
            "grid_template_columns": null,
            "grid_template_rows": null,
            "height": null,
            "justify_content": null,
            "justify_items": null,
            "left": null,
            "margin": null,
            "max_height": null,
            "max_width": null,
            "min_height": null,
            "min_width": null,
            "object_fit": null,
            "object_position": null,
            "order": null,
            "overflow": null,
            "overflow_x": null,
            "overflow_y": null,
            "padding": null,
            "right": null,
            "top": null,
            "visibility": null,
            "width": null
          }
        },
        "0f8693d07ca24357bc38e7f23f972709": {
          "model_module": "@jupyter-widgets/controls",
          "model_name": "ButtonModel",
          "model_module_version": "1.5.0",
          "state": {
            "_dom_classes": [],
            "_model_module": "@jupyter-widgets/controls",
            "_model_module_version": "1.5.0",
            "_model_name": "ButtonModel",
            "_view_count": null,
            "_view_module": "@jupyter-widgets/controls",
            "_view_module_version": "1.5.0",
            "_view_name": "ButtonView",
            "button_style": "",
            "description": "Click to Reveal Answer",
            "disabled": false,
            "icon": "",
            "layout": "IPY_MODEL_b61a42c4b5624b76aac1f115d5150718",
            "style": "IPY_MODEL_95abc6dc524e44b8ae3a6978f8a36223",
            "tooltip": ""
          }
        },
        "b61a42c4b5624b76aac1f115d5150718": {
          "model_module": "@jupyter-widgets/base",
          "model_name": "LayoutModel",
          "model_module_version": "1.2.0",
          "state": {
            "_model_module": "@jupyter-widgets/base",
            "_model_module_version": "1.2.0",
            "_model_name": "LayoutModel",
            "_view_count": null,
            "_view_module": "@jupyter-widgets/base",
            "_view_module_version": "1.2.0",
            "_view_name": "LayoutView",
            "align_content": null,
            "align_items": null,
            "align_self": null,
            "border": null,
            "bottom": null,
            "display": null,
            "flex": null,
            "flex_flow": null,
            "grid_area": null,
            "grid_auto_columns": null,
            "grid_auto_flow": null,
            "grid_auto_rows": null,
            "grid_column": null,
            "grid_gap": null,
            "grid_row": null,
            "grid_template_areas": null,
            "grid_template_columns": null,
            "grid_template_rows": null,
            "height": null,
            "justify_content": null,
            "justify_items": null,
            "left": null,
            "margin": null,
            "max_height": null,
            "max_width": null,
            "min_height": null,
            "min_width": null,
            "object_fit": null,
            "object_position": null,
            "order": null,
            "overflow": null,
            "overflow_x": null,
            "overflow_y": null,
            "padding": null,
            "right": null,
            "top": null,
            "visibility": null,
            "width": null
          }
        },
        "95abc6dc524e44b8ae3a6978f8a36223": {
          "model_module": "@jupyter-widgets/controls",
          "model_name": "ButtonStyleModel",
          "model_module_version": "1.5.0",
          "state": {
            "_model_module": "@jupyter-widgets/controls",
            "_model_module_version": "1.5.0",
            "_model_name": "ButtonStyleModel",
            "_view_count": null,
            "_view_module": "@jupyter-widgets/base",
            "_view_module_version": "1.2.0",
            "_view_name": "StyleView",
            "button_color": null,
            "font_weight": ""
          }
        },
        "bf67ae3bb36247848503121bb3be8b6a": {
          "model_module": "@jupyter-widgets/output",
          "model_name": "OutputModel",
          "model_module_version": "1.0.0",
          "state": {
            "_dom_classes": [],
            "_model_module": "@jupyter-widgets/output",
            "_model_module_version": "1.0.0",
            "_model_name": "OutputModel",
            "_view_count": null,
            "_view_module": "@jupyter-widgets/output",
            "_view_module_version": "1.0.0",
            "_view_name": "OutputView",
            "layout": "IPY_MODEL_6b05ae2b5c954f4a9d42095ef839f6e2",
            "msg_id": "",
            "outputs": []
          }
        },
        "6b05ae2b5c954f4a9d42095ef839f6e2": {
          "model_module": "@jupyter-widgets/base",
          "model_name": "LayoutModel",
          "model_module_version": "1.2.0",
          "state": {
            "_model_module": "@jupyter-widgets/base",
            "_model_module_version": "1.2.0",
            "_model_name": "LayoutModel",
            "_view_count": null,
            "_view_module": "@jupyter-widgets/base",
            "_view_module_version": "1.2.0",
            "_view_name": "LayoutView",
            "align_content": null,
            "align_items": null,
            "align_self": null,
            "border": null,
            "bottom": null,
            "display": null,
            "flex": null,
            "flex_flow": null,
            "grid_area": null,
            "grid_auto_columns": null,
            "grid_auto_flow": null,
            "grid_auto_rows": null,
            "grid_column": null,
            "grid_gap": null,
            "grid_row": null,
            "grid_template_areas": null,
            "grid_template_columns": null,
            "grid_template_rows": null,
            "height": null,
            "justify_content": null,
            "justify_items": null,
            "left": null,
            "margin": null,
            "max_height": null,
            "max_width": null,
            "min_height": null,
            "min_width": null,
            "object_fit": null,
            "object_position": null,
            "order": null,
            "overflow": null,
            "overflow_x": null,
            "overflow_y": null,
            "padding": null,
            "right": null,
            "top": null,
            "visibility": null,
            "width": null
          }
        },
        "f8a52d768a074f20b5b372317e891db4": {
          "model_module": "@jupyter-widgets/controls",
          "model_name": "ButtonModel",
          "model_module_version": "1.5.0",
          "state": {
            "_dom_classes": [],
            "_model_module": "@jupyter-widgets/controls",
            "_model_module_version": "1.5.0",
            "_model_name": "ButtonModel",
            "_view_count": null,
            "_view_module": "@jupyter-widgets/controls",
            "_view_module_version": "1.5.0",
            "_view_name": "ButtonView",
            "button_style": "",
            "description": "Click to Reveal Answer",
            "disabled": false,
            "icon": "",
            "layout": "IPY_MODEL_a46937756d0b4d248130bc7ecd906f67",
            "style": "IPY_MODEL_8b91a075265e4bf1b38c812708af315e",
            "tooltip": ""
          }
        },
        "a46937756d0b4d248130bc7ecd906f67": {
          "model_module": "@jupyter-widgets/base",
          "model_name": "LayoutModel",
          "model_module_version": "1.2.0",
          "state": {
            "_model_module": "@jupyter-widgets/base",
            "_model_module_version": "1.2.0",
            "_model_name": "LayoutModel",
            "_view_count": null,
            "_view_module": "@jupyter-widgets/base",
            "_view_module_version": "1.2.0",
            "_view_name": "LayoutView",
            "align_content": null,
            "align_items": null,
            "align_self": null,
            "border": null,
            "bottom": null,
            "display": null,
            "flex": null,
            "flex_flow": null,
            "grid_area": null,
            "grid_auto_columns": null,
            "grid_auto_flow": null,
            "grid_auto_rows": null,
            "grid_column": null,
            "grid_gap": null,
            "grid_row": null,
            "grid_template_areas": null,
            "grid_template_columns": null,
            "grid_template_rows": null,
            "height": null,
            "justify_content": null,
            "justify_items": null,
            "left": null,
            "margin": null,
            "max_height": null,
            "max_width": null,
            "min_height": null,
            "min_width": null,
            "object_fit": null,
            "object_position": null,
            "order": null,
            "overflow": null,
            "overflow_x": null,
            "overflow_y": null,
            "padding": null,
            "right": null,
            "top": null,
            "visibility": null,
            "width": null
          }
        },
        "8b91a075265e4bf1b38c812708af315e": {
          "model_module": "@jupyter-widgets/controls",
          "model_name": "ButtonStyleModel",
          "model_module_version": "1.5.0",
          "state": {
            "_model_module": "@jupyter-widgets/controls",
            "_model_module_version": "1.5.0",
            "_model_name": "ButtonStyleModel",
            "_view_count": null,
            "_view_module": "@jupyter-widgets/base",
            "_view_module_version": "1.2.0",
            "_view_name": "StyleView",
            "button_color": null,
            "font_weight": ""
          }
        },
        "7f9cf1d16f4c4776b0e730421788c912": {
          "model_module": "@jupyter-widgets/output",
          "model_name": "OutputModel",
          "model_module_version": "1.0.0",
          "state": {
            "_dom_classes": [],
            "_model_module": "@jupyter-widgets/output",
            "_model_module_version": "1.0.0",
            "_model_name": "OutputModel",
            "_view_count": null,
            "_view_module": "@jupyter-widgets/output",
            "_view_module_version": "1.0.0",
            "_view_name": "OutputView",
            "layout": "IPY_MODEL_18ade004d1c447c2afa51221507da224",
            "msg_id": "",
            "outputs": []
          }
        },
        "18ade004d1c447c2afa51221507da224": {
          "model_module": "@jupyter-widgets/base",
          "model_name": "LayoutModel",
          "model_module_version": "1.2.0",
          "state": {
            "_model_module": "@jupyter-widgets/base",
            "_model_module_version": "1.2.0",
            "_model_name": "LayoutModel",
            "_view_count": null,
            "_view_module": "@jupyter-widgets/base",
            "_view_module_version": "1.2.0",
            "_view_name": "LayoutView",
            "align_content": null,
            "align_items": null,
            "align_self": null,
            "border": null,
            "bottom": null,
            "display": null,
            "flex": null,
            "flex_flow": null,
            "grid_area": null,
            "grid_auto_columns": null,
            "grid_auto_flow": null,
            "grid_auto_rows": null,
            "grid_column": null,
            "grid_gap": null,
            "grid_row": null,
            "grid_template_areas": null,
            "grid_template_columns": null,
            "grid_template_rows": null,
            "height": null,
            "justify_content": null,
            "justify_items": null,
            "left": null,
            "margin": null,
            "max_height": null,
            "max_width": null,
            "min_height": null,
            "min_width": null,
            "object_fit": null,
            "object_position": null,
            "order": null,
            "overflow": null,
            "overflow_x": null,
            "overflow_y": null,
            "padding": null,
            "right": null,
            "top": null,
            "visibility": null,
            "width": null
          }
        },
        "d24779412d6242e79dfcc4529b97d889": {
          "model_module": "@jupyter-widgets/controls",
          "model_name": "ButtonModel",
          "model_module_version": "1.5.0",
          "state": {
            "_dom_classes": [],
            "_model_module": "@jupyter-widgets/controls",
            "_model_module_version": "1.5.0",
            "_model_name": "ButtonModel",
            "_view_count": null,
            "_view_module": "@jupyter-widgets/controls",
            "_view_module_version": "1.5.0",
            "_view_name": "ButtonView",
            "button_style": "",
            "description": "Click to Reveal Answer",
            "disabled": false,
            "icon": "",
            "layout": "IPY_MODEL_b36996e2b78c46c2a604603e3b1f79d4",
            "style": "IPY_MODEL_2da564662bc0479cb8159dfff38230bc",
            "tooltip": ""
          }
        },
        "b36996e2b78c46c2a604603e3b1f79d4": {
          "model_module": "@jupyter-widgets/base",
          "model_name": "LayoutModel",
          "model_module_version": "1.2.0",
          "state": {
            "_model_module": "@jupyter-widgets/base",
            "_model_module_version": "1.2.0",
            "_model_name": "LayoutModel",
            "_view_count": null,
            "_view_module": "@jupyter-widgets/base",
            "_view_module_version": "1.2.0",
            "_view_name": "LayoutView",
            "align_content": null,
            "align_items": null,
            "align_self": null,
            "border": null,
            "bottom": null,
            "display": null,
            "flex": null,
            "flex_flow": null,
            "grid_area": null,
            "grid_auto_columns": null,
            "grid_auto_flow": null,
            "grid_auto_rows": null,
            "grid_column": null,
            "grid_gap": null,
            "grid_row": null,
            "grid_template_areas": null,
            "grid_template_columns": null,
            "grid_template_rows": null,
            "height": null,
            "justify_content": null,
            "justify_items": null,
            "left": null,
            "margin": null,
            "max_height": null,
            "max_width": null,
            "min_height": null,
            "min_width": null,
            "object_fit": null,
            "object_position": null,
            "order": null,
            "overflow": null,
            "overflow_x": null,
            "overflow_y": null,
            "padding": null,
            "right": null,
            "top": null,
            "visibility": null,
            "width": null
          }
        },
        "2da564662bc0479cb8159dfff38230bc": {
          "model_module": "@jupyter-widgets/controls",
          "model_name": "ButtonStyleModel",
          "model_module_version": "1.5.0",
          "state": {
            "_model_module": "@jupyter-widgets/controls",
            "_model_module_version": "1.5.0",
            "_model_name": "ButtonStyleModel",
            "_view_count": null,
            "_view_module": "@jupyter-widgets/base",
            "_view_module_version": "1.2.0",
            "_view_name": "StyleView",
            "button_color": null,
            "font_weight": ""
          }
        },
        "6bf24a3db068424097c00fffd2475682": {
          "model_module": "@jupyter-widgets/output",
          "model_name": "OutputModel",
          "model_module_version": "1.0.0",
          "state": {
            "_dom_classes": [],
            "_model_module": "@jupyter-widgets/output",
            "_model_module_version": "1.0.0",
            "_model_name": "OutputModel",
            "_view_count": null,
            "_view_module": "@jupyter-widgets/output",
            "_view_module_version": "1.0.0",
            "_view_name": "OutputView",
            "layout": "IPY_MODEL_5df870e35ee941d28fc13da6c3486aae",
            "msg_id": "",
            "outputs": []
          }
        },
        "5df870e35ee941d28fc13da6c3486aae": {
          "model_module": "@jupyter-widgets/base",
          "model_name": "LayoutModel",
          "model_module_version": "1.2.0",
          "state": {
            "_model_module": "@jupyter-widgets/base",
            "_model_module_version": "1.2.0",
            "_model_name": "LayoutModel",
            "_view_count": null,
            "_view_module": "@jupyter-widgets/base",
            "_view_module_version": "1.2.0",
            "_view_name": "LayoutView",
            "align_content": null,
            "align_items": null,
            "align_self": null,
            "border": null,
            "bottom": null,
            "display": null,
            "flex": null,
            "flex_flow": null,
            "grid_area": null,
            "grid_auto_columns": null,
            "grid_auto_flow": null,
            "grid_auto_rows": null,
            "grid_column": null,
            "grid_gap": null,
            "grid_row": null,
            "grid_template_areas": null,
            "grid_template_columns": null,
            "grid_template_rows": null,
            "height": null,
            "justify_content": null,
            "justify_items": null,
            "left": null,
            "margin": null,
            "max_height": null,
            "max_width": null,
            "min_height": null,
            "min_width": null,
            "object_fit": null,
            "object_position": null,
            "order": null,
            "overflow": null,
            "overflow_x": null,
            "overflow_y": null,
            "padding": null,
            "right": null,
            "top": null,
            "visibility": null,
            "width": null
          }
        },
        "7f523339cb624c7c91e2d97089edab70": {
          "model_module": "@jupyter-widgets/controls",
          "model_name": "ButtonModel",
          "model_module_version": "1.5.0",
          "state": {
            "_dom_classes": [],
            "_model_module": "@jupyter-widgets/controls",
            "_model_module_version": "1.5.0",
            "_model_name": "ButtonModel",
            "_view_count": null,
            "_view_module": "@jupyter-widgets/controls",
            "_view_module_version": "1.5.0",
            "_view_name": "ButtonView",
            "button_style": "",
            "description": "Click to Reveal Answer",
            "disabled": false,
            "icon": "",
            "layout": "IPY_MODEL_27a93c7f216a421f9527f84826c16554",
            "style": "IPY_MODEL_724704c8c2344d7ca4e10d32a829855b",
            "tooltip": ""
          }
        },
        "27a93c7f216a421f9527f84826c16554": {
          "model_module": "@jupyter-widgets/base",
          "model_name": "LayoutModel",
          "model_module_version": "1.2.0",
          "state": {
            "_model_module": "@jupyter-widgets/base",
            "_model_module_version": "1.2.0",
            "_model_name": "LayoutModel",
            "_view_count": null,
            "_view_module": "@jupyter-widgets/base",
            "_view_module_version": "1.2.0",
            "_view_name": "LayoutView",
            "align_content": null,
            "align_items": null,
            "align_self": null,
            "border": null,
            "bottom": null,
            "display": null,
            "flex": null,
            "flex_flow": null,
            "grid_area": null,
            "grid_auto_columns": null,
            "grid_auto_flow": null,
            "grid_auto_rows": null,
            "grid_column": null,
            "grid_gap": null,
            "grid_row": null,
            "grid_template_areas": null,
            "grid_template_columns": null,
            "grid_template_rows": null,
            "height": null,
            "justify_content": null,
            "justify_items": null,
            "left": null,
            "margin": null,
            "max_height": null,
            "max_width": null,
            "min_height": null,
            "min_width": null,
            "object_fit": null,
            "object_position": null,
            "order": null,
            "overflow": null,
            "overflow_x": null,
            "overflow_y": null,
            "padding": null,
            "right": null,
            "top": null,
            "visibility": null,
            "width": null
          }
        },
        "724704c8c2344d7ca4e10d32a829855b": {
          "model_module": "@jupyter-widgets/controls",
          "model_name": "ButtonStyleModel",
          "model_module_version": "1.5.0",
          "state": {
            "_model_module": "@jupyter-widgets/controls",
            "_model_module_version": "1.5.0",
            "_model_name": "ButtonStyleModel",
            "_view_count": null,
            "_view_module": "@jupyter-widgets/base",
            "_view_module_version": "1.2.0",
            "_view_name": "StyleView",
            "button_color": null,
            "font_weight": ""
          }
        },
        "19cd98c375f546f8a39a9aa790cbdea9": {
          "model_module": "@jupyter-widgets/output",
          "model_name": "OutputModel",
          "model_module_version": "1.0.0",
          "state": {
            "_dom_classes": [],
            "_model_module": "@jupyter-widgets/output",
            "_model_module_version": "1.0.0",
            "_model_name": "OutputModel",
            "_view_count": null,
            "_view_module": "@jupyter-widgets/output",
            "_view_module_version": "1.0.0",
            "_view_name": "OutputView",
            "layout": "IPY_MODEL_e8a63f198a0841488e08892dc7a684bf",
            "msg_id": "",
            "outputs": []
          }
        },
        "e8a63f198a0841488e08892dc7a684bf": {
          "model_module": "@jupyter-widgets/base",
          "model_name": "LayoutModel",
          "model_module_version": "1.2.0",
          "state": {
            "_model_module": "@jupyter-widgets/base",
            "_model_module_version": "1.2.0",
            "_model_name": "LayoutModel",
            "_view_count": null,
            "_view_module": "@jupyter-widgets/base",
            "_view_module_version": "1.2.0",
            "_view_name": "LayoutView",
            "align_content": null,
            "align_items": null,
            "align_self": null,
            "border": null,
            "bottom": null,
            "display": null,
            "flex": null,
            "flex_flow": null,
            "grid_area": null,
            "grid_auto_columns": null,
            "grid_auto_flow": null,
            "grid_auto_rows": null,
            "grid_column": null,
            "grid_gap": null,
            "grid_row": null,
            "grid_template_areas": null,
            "grid_template_columns": null,
            "grid_template_rows": null,
            "height": null,
            "justify_content": null,
            "justify_items": null,
            "left": null,
            "margin": null,
            "max_height": null,
            "max_width": null,
            "min_height": null,
            "min_width": null,
            "object_fit": null,
            "object_position": null,
            "order": null,
            "overflow": null,
            "overflow_x": null,
            "overflow_y": null,
            "padding": null,
            "right": null,
            "top": null,
            "visibility": null,
            "width": null
          }
        },
        "40ef92b1385e42c693b73f7dcc6327e5": {
          "model_module": "@jupyter-widgets/controls",
          "model_name": "ButtonModel",
          "model_module_version": "1.5.0",
          "state": {
            "_dom_classes": [],
            "_model_module": "@jupyter-widgets/controls",
            "_model_module_version": "1.5.0",
            "_model_name": "ButtonModel",
            "_view_count": null,
            "_view_module": "@jupyter-widgets/controls",
            "_view_module_version": "1.5.0",
            "_view_name": "ButtonView",
            "button_style": "",
            "description": "Click to Reveal Answer",
            "disabled": false,
            "icon": "",
            "layout": "IPY_MODEL_c829ca465fb545368222b1e85816a5ec",
            "style": "IPY_MODEL_ca0b76fbbc274e5d9e72deec9d0d66aa",
            "tooltip": ""
          }
        },
        "c829ca465fb545368222b1e85816a5ec": {
          "model_module": "@jupyter-widgets/base",
          "model_name": "LayoutModel",
          "model_module_version": "1.2.0",
          "state": {
            "_model_module": "@jupyter-widgets/base",
            "_model_module_version": "1.2.0",
            "_model_name": "LayoutModel",
            "_view_count": null,
            "_view_module": "@jupyter-widgets/base",
            "_view_module_version": "1.2.0",
            "_view_name": "LayoutView",
            "align_content": null,
            "align_items": null,
            "align_self": null,
            "border": null,
            "bottom": null,
            "display": null,
            "flex": null,
            "flex_flow": null,
            "grid_area": null,
            "grid_auto_columns": null,
            "grid_auto_flow": null,
            "grid_auto_rows": null,
            "grid_column": null,
            "grid_gap": null,
            "grid_row": null,
            "grid_template_areas": null,
            "grid_template_columns": null,
            "grid_template_rows": null,
            "height": null,
            "justify_content": null,
            "justify_items": null,
            "left": null,
            "margin": null,
            "max_height": null,
            "max_width": null,
            "min_height": null,
            "min_width": null,
            "object_fit": null,
            "object_position": null,
            "order": null,
            "overflow": null,
            "overflow_x": null,
            "overflow_y": null,
            "padding": null,
            "right": null,
            "top": null,
            "visibility": null,
            "width": null
          }
        },
        "ca0b76fbbc274e5d9e72deec9d0d66aa": {
          "model_module": "@jupyter-widgets/controls",
          "model_name": "ButtonStyleModel",
          "model_module_version": "1.5.0",
          "state": {
            "_model_module": "@jupyter-widgets/controls",
            "_model_module_version": "1.5.0",
            "_model_name": "ButtonStyleModel",
            "_view_count": null,
            "_view_module": "@jupyter-widgets/base",
            "_view_module_version": "1.2.0",
            "_view_name": "StyleView",
            "button_color": null,
            "font_weight": ""
          }
        },
        "59e102d3fdae41d791746093377caaff": {
          "model_module": "@jupyter-widgets/output",
          "model_name": "OutputModel",
          "model_module_version": "1.0.0",
          "state": {
            "_dom_classes": [],
            "_model_module": "@jupyter-widgets/output",
            "_model_module_version": "1.0.0",
            "_model_name": "OutputModel",
            "_view_count": null,
            "_view_module": "@jupyter-widgets/output",
            "_view_module_version": "1.0.0",
            "_view_name": "OutputView",
            "layout": "IPY_MODEL_ecf0262371214e20869cda25d5492f54",
            "msg_id": "",
            "outputs": []
          }
        },
        "ecf0262371214e20869cda25d5492f54": {
          "model_module": "@jupyter-widgets/base",
          "model_name": "LayoutModel",
          "model_module_version": "1.2.0",
          "state": {
            "_model_module": "@jupyter-widgets/base",
            "_model_module_version": "1.2.0",
            "_model_name": "LayoutModel",
            "_view_count": null,
            "_view_module": "@jupyter-widgets/base",
            "_view_module_version": "1.2.0",
            "_view_name": "LayoutView",
            "align_content": null,
            "align_items": null,
            "align_self": null,
            "border": null,
            "bottom": null,
            "display": null,
            "flex": null,
            "flex_flow": null,
            "grid_area": null,
            "grid_auto_columns": null,
            "grid_auto_flow": null,
            "grid_auto_rows": null,
            "grid_column": null,
            "grid_gap": null,
            "grid_row": null,
            "grid_template_areas": null,
            "grid_template_columns": null,
            "grid_template_rows": null,
            "height": null,
            "justify_content": null,
            "justify_items": null,
            "left": null,
            "margin": null,
            "max_height": null,
            "max_width": null,
            "min_height": null,
            "min_width": null,
            "object_fit": null,
            "object_position": null,
            "order": null,
            "overflow": null,
            "overflow_x": null,
            "overflow_y": null,
            "padding": null,
            "right": null,
            "top": null,
            "visibility": null,
            "width": null
          }
        }
      }
    }
  },
  "cells": [
    {
      "cell_type": "markdown",
      "source": [
        "<img src=\"https://github.com/PKhosravi-CityTech/LightCnnRad/raw/main/Images/BioMindLogo.png\" alt=\"BioMind AI Lab Logo\" width=\"150\" height=\"150\" align=\"left\" style=\"margin-bottom: 40px;\"> **Repository Developed by Pegah Khosravi, Principal Investigator of the BioMind AI Lab**\n",
        "\n",
        "Welcome to this repository! This notebook is designed to provide hands-on experience and foundational knowledge in machine learning. It is part of our journey to explore key ML concepts, algorithms, and applications. Whether you're a PhD student, or a master's student, this repository aims to support your learning goals and encourage critical thinking about machine learning systems.\n"
      ],
      "metadata": {
        "id": "klVqqBYFKZ1_"
      }
    },
    {
      "cell_type": "markdown",
      "source": [
        "# Quiz 1\n",
        "\n",
        "## Quiz Description\n",
        "\n",
        "You will have a maximum of 30 minutes to complete the quiz. However, if you are experiencing high stress or require additional time, you may take up to 1 hour to finish.\n",
        "\n",
        "## Quiz Structure\n",
        "- 6 Short-answer questions\n",
        "- 1 True/False question\n",
        "- 1 Fill-in-the-blank question (with two blanks)\n",
        "- 2 Essay questions\n",
        "\n",
        "## Instructions\n",
        "- For the short-answer questions, select one of the four options and write your answer as A, B, C, or D (capital letters preferred).\n",
        "- For the fill-in-the-blank question, provide one word per blank, separated by a comma (e.g., word1, word2).\n",
        "- For the essay questions, write your explanation and code in Google Colab or any Python-compatible platform.\n",
        "- This is an open-book quiz, so you may use textbooks or other resources—just make sure to work independently and do not use OpenAI or similar AI tools.\n",
        "\n",
        "Follow these instructions carefully. Good luck!"
      ],
      "metadata": {
        "id": "qtrQNHqLKr2R"
      }
    },
    {
      "cell_type": "code",
      "source": [
        "import ipywidgets as widgets\n",
        "from IPython.display import display, Markdown, clear_output\n",
        "\n",
        "# Function to create a question-answer toggle button\n",
        "def create_question(question_text, answer_text):\n",
        "    button = widgets.Button(description=\"Click to Reveal Answer\")\n",
        "    output = widgets.Output()\n",
        "\n",
        "    def reveal_answer(b):\n",
        "        with output:\n",
        "            output.clear_output()\n",
        "            display(Markdown(f\"**Answer:** {answer_text}\"))\n",
        "\n",
        "    button.on_click(reveal_answer)\n",
        "    display(Markdown(f\"**{question_text}**\"), button, output)\n",
        "\n",
        "# List of questions and answers\n",
        "qa_pairs = [\n",
        "    (\"Question 1: What is the key difference between generative and discriminative models?\\n\"\n",
        "     \"A) Generative models estimate P(Y∣X), while discriminative models estimate P(X∣Y)\\n\"\n",
        "     \"B) Discriminative models estimate P(Y∣X), while generative models estimate P(X,Y)\\n\"\n",
        "     \"C) Generative models only work with supervised learning, while discriminative models work with unsupervised learning\\n\"\n",
        "     \"D) Discriminative models learn the joint probability distribution of the data\", \"B\"),\n",
        "\n",
        "    (\"Question 2: Which of the following regularization techniques helps prevent overfitting by adding the sum of squared weights to the loss function?\\n\"\n",
        "     \"A) L1 regularization\\nB) Dropout\\nC) L2 regularization\\nD) Batch Normalization\", \"C\"),\n",
        "\n",
        "    (\"Question 3: What is the main purpose of the bias-variance tradeoff in machine learning?\\n\"\n",
        "     \"A) To increase the accuracy of a model\\nB) To reduce both bias and variance simultaneously\\n\"\n",
        "     \"C) To find a balance between underfitting and overfitting\\nD) To determine the optimal number of decision trees in an ensemble\", \"C\"),\n",
        "\n",
        "    (\"Question 4: Which of the following statements about decision trees is FALSE?\\n\"\n",
        "     \"A) Decision trees can handle both numerical and categorical data\\n\"\n",
        "     \"B) Decision trees are prone to overfitting, especially with deep trees\\n\"\n",
        "     \"C) Decision trees use impurity measures such as Gini impurity and entropy\\n\"\n",
        "     \"D) Decision trees require feature scaling before training\", \"D\"),\n",
        "\n",
        "    (\"Question 5: What is the main advantage of ensemble methods like Random Forest over a single decision tree?\\n\"\n",
        "     \"A) They reduce variance and improve generalization\\n\"\n",
        "     \"B) They are always more interpretable than a single decision tree\\n\"\n",
        "     \"C) They require less computational power than decision trees\\n\"\n",
        "     \"D) They eliminate the need for feature selection\", \"A\"),\n",
        "\n",
        "    (\"Question 6: Which boosting algorithm works by iteratively training models that correct the errors of previous models?\\n\"\n",
        "     \"A) Bagging\\nB) AdaBoost\\nC) K-Means\\nD) Principal Component Analysis (PCA)\", \"B\"),\n",
        "\n",
        "    (\"Question 7: True/False? Increasing the complexity of a model always leads to better performance on unseen data.\", \"False\"),\n",
        "\n",
        "    (\"Question 8: Fill in the Blank -> Logistic Regression is commonly used for ______ problems where the target variable has two possible outcomes. \"\n",
        "     \"Unlike linear regression, it applies the ______ function to map predictions to probability values between 0 and 1.\", \"classification, sigmoid\"),\n",
        "\n",
        "]\n",
        "\n",
        "# Display all questions with interactive answer buttons\n",
        "for question, answer in qa_pairs:\n",
        "    create_question(question, answer)\n"
      ],
      "metadata": {
        "colab": {
          "base_uri": "https://localhost:8080/",
          "height": 716,
          "referenced_widgets": [
            "eb7fab6669864687ad765ac616cf182f",
            "1b7abb726c4a40d98aae4b7566acaeda",
            "8f8bf323d47140c58e59899e8f260dfc",
            "6c59ad3742744191a66fec68285b7b91",
            "5cc8c0120ccd434da947e33e234aea27",
            "76c51bf57dee4f95b8afafefe35045b4",
            "6a0a6a853a104d1c988ac2b61c0cdd5c",
            "9a416ad0ab9949358bc9e16a7a201af1",
            "7dd4e19cdc5a493dab30331fc0d4347d",
            "ed9f1d79b3d24779b08655f2c2fe305f",
            "ce91eb29ffd74cac9333abe0467cee70",
            "ded44e4a3fb341bbb957940cd2b32156",
            "c360f83ec94644088151a53186faf620",
            "226a3c42e9ef47c78d9a3d8f86006e9a",
            "55c276cdb3f54750b1a76951bb83bd2b",
            "4782ca4c2662453ba407d4b6a82c3331",
            "ec40e3d1fe644c759a8ebde1ac2744df",
            "15d39923bfcf423fa49b02674d83d377",
            "7bf5cac3546346149c9fce6264bf1824",
            "b9c6073a2a854ec69082e6327292d00e",
            "fa13428796c64ddd857c67fa11aa8380",
            "98dc6b787b9a4d0182f6038f1c28e9e8",
            "98327c6ca2c14db3a6baa7f822b74e15",
            "da1c78688ab44bcc922b7c1185a54ba6",
            "bdc36e9b0e8446e6b4a6b3549076c760",
            "0f8693d07ca24357bc38e7f23f972709",
            "b61a42c4b5624b76aac1f115d5150718",
            "95abc6dc524e44b8ae3a6978f8a36223",
            "bf67ae3bb36247848503121bb3be8b6a",
            "6b05ae2b5c954f4a9d42095ef839f6e2",
            "f8a52d768a074f20b5b372317e891db4",
            "a46937756d0b4d248130bc7ecd906f67",
            "8b91a075265e4bf1b38c812708af315e",
            "7f9cf1d16f4c4776b0e730421788c912",
            "18ade004d1c447c2afa51221507da224",
            "d24779412d6242e79dfcc4529b97d889",
            "b36996e2b78c46c2a604603e3b1f79d4",
            "2da564662bc0479cb8159dfff38230bc",
            "6bf24a3db068424097c00fffd2475682",
            "5df870e35ee941d28fc13da6c3486aae"
          ]
        },
        "id": "Auq2jYv3MwLy",
        "outputId": "6de1ce9b-dcea-46c8-d434-8ca517e0677a"
      },
      "execution_count": 6,
      "outputs": [
        {
          "output_type": "display_data",
          "data": {
            "text/plain": [
              "<IPython.core.display.Markdown object>"
            ],
            "text/markdown": "**Question 1: What is the key difference between generative and discriminative models?\nA) Generative models estimate P(Y∣X), while discriminative models estimate P(X∣Y)\nB) Discriminative models estimate P(Y∣X), while generative models estimate P(X,Y)\nC) Generative models only work with supervised learning, while discriminative models work with unsupervised learning\nD) Discriminative models learn the joint probability distribution of the data**"
          },
          "metadata": {}
        },
        {
          "output_type": "display_data",
          "data": {
            "text/plain": [
              "Button(description='Click to Reveal Answer', style=ButtonStyle())"
            ],
            "application/vnd.jupyter.widget-view+json": {
              "version_major": 2,
              "version_minor": 0,
              "model_id": "eb7fab6669864687ad765ac616cf182f"
            }
          },
          "metadata": {}
        },
        {
          "output_type": "display_data",
          "data": {
            "text/plain": [
              "Output()"
            ],
            "application/vnd.jupyter.widget-view+json": {
              "version_major": 2,
              "version_minor": 0,
              "model_id": "6c59ad3742744191a66fec68285b7b91"
            }
          },
          "metadata": {}
        },
        {
          "output_type": "display_data",
          "data": {
            "text/plain": [
              "<IPython.core.display.Markdown object>"
            ],
            "text/markdown": "**Question 2: Which of the following regularization techniques helps prevent overfitting by adding the sum of squared weights to the loss function?\nA) L1 regularization\nB) Dropout\nC) L2 regularization\nD) Batch Normalization**"
          },
          "metadata": {}
        },
        {
          "output_type": "display_data",
          "data": {
            "text/plain": [
              "Button(description='Click to Reveal Answer', style=ButtonStyle())"
            ],
            "application/vnd.jupyter.widget-view+json": {
              "version_major": 2,
              "version_minor": 0,
              "model_id": "76c51bf57dee4f95b8afafefe35045b4"
            }
          },
          "metadata": {}
        },
        {
          "output_type": "display_data",
          "data": {
            "text/plain": [
              "Output()"
            ],
            "application/vnd.jupyter.widget-view+json": {
              "version_major": 2,
              "version_minor": 0,
              "model_id": "7dd4e19cdc5a493dab30331fc0d4347d"
            }
          },
          "metadata": {}
        },
        {
          "output_type": "display_data",
          "data": {
            "text/plain": [
              "<IPython.core.display.Markdown object>"
            ],
            "text/markdown": "**Question 3: What is the main purpose of the bias-variance tradeoff in machine learning?\nA) To increase the accuracy of a model\nB) To reduce both bias and variance simultaneously\nC) To find a balance between underfitting and overfitting\nD) To determine the optimal number of decision trees in an ensemble**"
          },
          "metadata": {}
        },
        {
          "output_type": "display_data",
          "data": {
            "text/plain": [
              "Button(description='Click to Reveal Answer', style=ButtonStyle())"
            ],
            "application/vnd.jupyter.widget-view+json": {
              "version_major": 2,
              "version_minor": 0,
              "model_id": "ce91eb29ffd74cac9333abe0467cee70"
            }
          },
          "metadata": {}
        },
        {
          "output_type": "display_data",
          "data": {
            "text/plain": [
              "Output()"
            ],
            "application/vnd.jupyter.widget-view+json": {
              "version_major": 2,
              "version_minor": 0,
              "model_id": "226a3c42e9ef47c78d9a3d8f86006e9a"
            }
          },
          "metadata": {}
        },
        {
          "output_type": "display_data",
          "data": {
            "text/plain": [
              "<IPython.core.display.Markdown object>"
            ],
            "text/markdown": "**Question 4: Which of the following statements about decision trees is FALSE?\nA) Decision trees can handle both numerical and categorical data\nB) Decision trees are prone to overfitting, especially with deep trees\nC) Decision trees use impurity measures such as Gini impurity and entropy\nD) Decision trees require feature scaling before training**"
          },
          "metadata": {}
        },
        {
          "output_type": "display_data",
          "data": {
            "text/plain": [
              "Button(description='Click to Reveal Answer', style=ButtonStyle())"
            ],
            "application/vnd.jupyter.widget-view+json": {
              "version_major": 2,
              "version_minor": 0,
              "model_id": "4782ca4c2662453ba407d4b6a82c3331"
            }
          },
          "metadata": {}
        },
        {
          "output_type": "display_data",
          "data": {
            "text/plain": [
              "Output()"
            ],
            "application/vnd.jupyter.widget-view+json": {
              "version_major": 2,
              "version_minor": 0,
              "model_id": "7bf5cac3546346149c9fce6264bf1824"
            }
          },
          "metadata": {}
        },
        {
          "output_type": "display_data",
          "data": {
            "text/plain": [
              "<IPython.core.display.Markdown object>"
            ],
            "text/markdown": "**Question 5: What is the main advantage of ensemble methods like Random Forest over a single decision tree?\nA) They reduce variance and improve generalization\nB) They are always more interpretable than a single decision tree\nC) They require less computational power than decision trees\nD) They eliminate the need for feature selection**"
          },
          "metadata": {}
        },
        {
          "output_type": "display_data",
          "data": {
            "text/plain": [
              "Button(description='Click to Reveal Answer', style=ButtonStyle())"
            ],
            "application/vnd.jupyter.widget-view+json": {
              "version_major": 2,
              "version_minor": 0,
              "model_id": "fa13428796c64ddd857c67fa11aa8380"
            }
          },
          "metadata": {}
        },
        {
          "output_type": "display_data",
          "data": {
            "text/plain": [
              "Output()"
            ],
            "application/vnd.jupyter.widget-view+json": {
              "version_major": 2,
              "version_minor": 0,
              "model_id": "da1c78688ab44bcc922b7c1185a54ba6"
            }
          },
          "metadata": {}
        },
        {
          "output_type": "display_data",
          "data": {
            "text/plain": [
              "<IPython.core.display.Markdown object>"
            ],
            "text/markdown": "**Question 6: Which boosting algorithm works by iteratively training models that correct the errors of previous models?\nA) Bagging\nB) AdaBoost\nC) K-Means\nD) Principal Component Analysis (PCA)**"
          },
          "metadata": {}
        },
        {
          "output_type": "display_data",
          "data": {
            "text/plain": [
              "Button(description='Click to Reveal Answer', style=ButtonStyle())"
            ],
            "application/vnd.jupyter.widget-view+json": {
              "version_major": 2,
              "version_minor": 0,
              "model_id": "0f8693d07ca24357bc38e7f23f972709"
            }
          },
          "metadata": {}
        },
        {
          "output_type": "display_data",
          "data": {
            "text/plain": [
              "Output()"
            ],
            "application/vnd.jupyter.widget-view+json": {
              "version_major": 2,
              "version_minor": 0,
              "model_id": "bf67ae3bb36247848503121bb3be8b6a"
            }
          },
          "metadata": {}
        },
        {
          "output_type": "display_data",
          "data": {
            "text/plain": [
              "<IPython.core.display.Markdown object>"
            ],
            "text/markdown": "**Question 7: True/False? Increasing the complexity of a model always leads to better performance on unseen data.**"
          },
          "metadata": {}
        },
        {
          "output_type": "display_data",
          "data": {
            "text/plain": [
              "Button(description='Click to Reveal Answer', style=ButtonStyle())"
            ],
            "application/vnd.jupyter.widget-view+json": {
              "version_major": 2,
              "version_minor": 0,
              "model_id": "f8a52d768a074f20b5b372317e891db4"
            }
          },
          "metadata": {}
        },
        {
          "output_type": "display_data",
          "data": {
            "text/plain": [
              "Output()"
            ],
            "application/vnd.jupyter.widget-view+json": {
              "version_major": 2,
              "version_minor": 0,
              "model_id": "7f9cf1d16f4c4776b0e730421788c912"
            }
          },
          "metadata": {}
        },
        {
          "output_type": "display_data",
          "data": {
            "text/plain": [
              "<IPython.core.display.Markdown object>"
            ],
            "text/markdown": "**Question 8: Fill in the Blank -> Logistic Regression is commonly used for ______ problems where the target variable has two possible outcomes. Unlike linear regression, it applies the ______ function to map predictions to probability values between 0 and 1.**"
          },
          "metadata": {}
        },
        {
          "output_type": "display_data",
          "data": {
            "text/plain": [
              "Button(description='Click to Reveal Answer', style=ButtonStyle())"
            ],
            "application/vnd.jupyter.widget-view+json": {
              "version_major": 2,
              "version_minor": 0,
              "model_id": "d24779412d6242e79dfcc4529b97d889"
            }
          },
          "metadata": {}
        },
        {
          "output_type": "display_data",
          "data": {
            "text/plain": [
              "Output()"
            ],
            "application/vnd.jupyter.widget-view+json": {
              "version_major": 2,
              "version_minor": 0,
              "model_id": "6bf24a3db068424097c00fffd2475682"
            }
          },
          "metadata": {}
        }
      ]
    },
    {
      "cell_type": "code",
      "source": [
        "import ipywidgets as widgets\n",
        "from IPython.display import display, Markdown, clear_output\n",
        "\n",
        "# Function to create a question-answer toggle button\n",
        "def create_question(question_text, answer_text):\n",
        "    button = widgets.Button(description=\"Click to Reveal Answer\")\n",
        "    output = widgets.Output()\n",
        "\n",
        "    def reveal_answer(b):\n",
        "        with output:\n",
        "            output.clear_output()\n",
        "            display(Markdown(f\"**Answer:**\\n\\n{answer_text}\"))\n",
        "\n",
        "    button.on_click(reveal_answer)\n",
        "    display(Markdown(question_text), button, output)\n",
        "\n",
        "# Corrected question formatting for proper Markdown rendering\n",
        "question_9 = (\n",
        "    \"**Question 9: Essay - Compare and Contrast Random Forest and XGBoost**\\n\\n\"\n",
        "    \"- **Explain the key differences** between Random Forest and XGBoost in terms of their learning strategies.\\n\"\n",
        "    \"- **How does each method handle decision trees** and optimize performance?\\n\"\n",
        "    \"- **When would you prefer** to use Random Forest over XGBoost and vice versa?\\n\"\n",
        ")\n",
        "\n",
        "answer_9 = (\n",
        "    \"**Random Forest and XGBoost** are both ensemble learning algorithms that use decision trees as their base models, \"\n",
        "    \"but they differ in how they build and optimize these trees.\\n\\n\"\n",
        "    \"**Random Forest** is based on **bagging** (Bootstrap Aggregating), where multiple decision trees are trained independently \"\n",
        "    \"on different random subsets of the data. The final prediction is made by averaging (for regression) or majority voting \"\n",
        "    \"(for classification) across all trees. Each tree in a Random Forest is grown fully without pruning, making it robust \"\n",
        "    \"but also computationally expensive.\\n\\n\"\n",
        "    \"**XGBoost (Extreme Gradient Boosting)**, on the other hand, uses **boosting**, meaning trees are built sequentially, \"\n",
        "    \"with each new tree correcting the mistakes of the previous ones. Instead of training trees independently, XGBoost applies \"\n",
        "    \"gradient boosting, where each new tree learns to minimize the residual errors of the previous trees. XGBoost also \"\n",
        "    \"incorporates **regularization techniques (L1 and L2 penalties)** to reduce overfitting and supports parallel computing, \"\n",
        "    \"making it much faster and more efficient for large datasets compared to Random Forest.\\n\\n\"\n",
        "    \"**When to Use Which?**\\n\\n\"\n",
        "    \"- **Random Forest** is better for simple, interpretable models and high-variance datasets. It handles complex relationships well but can be computationally expensive.\\n\"\n",
        "    \"- **XGBoost** is preferred when speed and performance are critical, especially in large-scale applications and competitions. It controls overfitting better due to built-in regularization.\\n\\n\"\n",
        "    \"In summary, **Random Forest is easier to implement and interpret, while XGBoost is more powerful for complex problems** requiring high accuracy. \"\n",
        "    \"However, its sequential boosting approach makes it computationally more expensive than Random Forest, though optimizations make it faster than traditional gradient boosting methods.\"\n",
        ")\n",
        "\n",
        "# Display the question\n",
        "create_question(question_9, answer_9)\n"
      ],
      "metadata": {
        "colab": {
          "base_uri": "https://localhost:8080/",
          "height": 136,
          "referenced_widgets": [
            "7f523339cb624c7c91e2d97089edab70",
            "27a93c7f216a421f9527f84826c16554",
            "724704c8c2344d7ca4e10d32a829855b",
            "19cd98c375f546f8a39a9aa790cbdea9",
            "e8a63f198a0841488e08892dc7a684bf"
          ]
        },
        "id": "ec8bQ0hRP3MI",
        "outputId": "cf466fcd-6285-4879-bf41-f00f8fc54a0c"
      },
      "execution_count": 7,
      "outputs": [
        {
          "output_type": "display_data",
          "data": {
            "text/plain": [
              "<IPython.core.display.Markdown object>"
            ],
            "text/markdown": "**Question 9: Essay - Compare and Contrast Random Forest and XGBoost**\n\n- **Explain the key differences** between Random Forest and XGBoost in terms of their learning strategies.\n- **How does each method handle decision trees** and optimize performance?\n- **When would you prefer** to use Random Forest over XGBoost and vice versa?\n"
          },
          "metadata": {}
        },
        {
          "output_type": "display_data",
          "data": {
            "text/plain": [
              "Button(description='Click to Reveal Answer', style=ButtonStyle())"
            ],
            "application/vnd.jupyter.widget-view+json": {
              "version_major": 2,
              "version_minor": 0,
              "model_id": "7f523339cb624c7c91e2d97089edab70"
            }
          },
          "metadata": {}
        },
        {
          "output_type": "display_data",
          "data": {
            "text/plain": [
              "Output()"
            ],
            "application/vnd.jupyter.widget-view+json": {
              "version_major": 2,
              "version_minor": 0,
              "model_id": "19cd98c375f546f8a39a9aa790cbdea9"
            }
          },
          "metadata": {}
        }
      ]
    },
    {
      "cell_type": "code",
      "source": [
        "import ipywidgets as widgets\n",
        "from IPython.display import display, Markdown, clear_output\n",
        "\n",
        "def create_question(question_text, answer_text):\n",
        "    button = widgets.Button(description=\"Click to Reveal Answer\")\n",
        "    output = widgets.Output()\n",
        "\n",
        "    def reveal_answer(b):\n",
        "        with output:\n",
        "            output.clear_output()\n",
        "            display(Markdown(f\"**Answer:**\\n\\n{answer_text}\"))\n",
        "\n",
        "    button.on_click(reveal_answer)\n",
        "    display(Markdown(question_text), button, output)\n",
        "\n",
        "question_10 = (\n",
        "    \"**Question 10: Essay & Code - Housing Price Classification**\\n\\n\"\n",
        "    \"You are provided with a housing dataset containing the following features:\\n\"\n",
        "    \"- **RM**: Average number of rooms per dwelling.\\n\"\n",
        "    \"- **LSTAT**: Percentage of lower-status population in the area.\\n\"\n",
        "    \"- **PTRATIO**: Pupil-teacher ratio in the neighborhood.\\n\"\n",
        "    \"- **MEDV**: House price in dollars (target variable).\\n\\n\"\n",
        "    \"**Task:**\\n\"\n",
        "    \"- Convert the `MEDV` column into a binary classification target:\\n\"\n",
        "      \"  - Calculate the **median** house price.\\n\"\n",
        "      \"  - If `MEDV` is above the median, classify it as `'High' (1)`.\\n\"\n",
        "      \"  - If `MEDV` is below or equal to the median, classify it as `'Low' (0)`.\\n\"\n",
        "    \"- Split the data into training (70%) and testing (30%) sets.\\n\"\n",
        "    \"- Train a **Decision Tree Classifier** with:\\n\"\n",
        "      \"  - Features: `RM`, `LSTAT`, `PTRATIO`.\\n\"\n",
        "      \"  - Max Depth: `3`.\\n\"\n",
        "      \"  - Random State: `42`.\\n\"\n",
        "    \"- Evaluate the model:\\n\"\n",
        "      \"  - Compute accuracy.\\n\"\n",
        "      \"  - Display the confusion matrix.\\n\"\n",
        "      \"  - Generate the classification report.\\n\"\n",
        "    \"- **Visualize** the Decision Tree structure.\\n\\n\"\n",
        "    \"**Interpretation Questions:**\\n\"\n",
        "    \"- Which feature appears at the top of the tree?\\n\"\n",
        "    \"- What does this tell you about its importance?\\n\"\n",
        "    \"- Suggest one improvement to this model.\"\n",
        ")\n",
        "\n",
        "answer_10 = (\n",
        "    \"**Python Implementation**\\n\\n\"\n",
        "    \"```python\\n\"\n",
        "    \"import numpy as np\\n\"\n",
        "    \"import pandas as pd\\n\"\n",
        "    \"import matplotlib.pyplot as plt\\n\"\n",
        "    \"from sklearn.model_selection import train_test_split\\n\"\n",
        "    \"from sklearn.tree import DecisionTreeClassifier, plot_tree\\n\"\n",
        "    \"from sklearn.metrics import accuracy_score, confusion_matrix, classification_report\\n\\n\"\n",
        "    \"df = pd.read_csv('/content/housing.csv')\\n\"\n",
        "    \"median_price = df['MEDV'].median()\\n\"\n",
        "    \"df['PriceCategory'] = (df['MEDV'] > median_price).astype(int)\\n\"\n",
        "    \"y = df['PriceCategory']\\n\"\n",
        "    \"X = df[['RM', 'LSTAT', 'PTRATIO']]\\n\"\n",
        "    \"X_train, X_test, y_train, y_test = train_test_split(X, y, test_size=0.3, random_state=42)\\n\\n\"\n",
        "    \"clf = DecisionTreeClassifier(max_depth=3, random_state=42)\\n\"\n",
        "    \"clf.fit(X_train, y_train)\\n\"\n",
        "    \"y_pred = clf.predict(X_test)\\n\\n\"\n",
        "    \"print(f'Accuracy: {accuracy_score(y_test, y_pred):.4f}')\\n\"\n",
        "    \"print('\\\\nConfusion Matrix:\\\\n', confusion_matrix(y_test, y_pred))\\n\"\n",
        "    \"print('\\\\nClassification Report:\\\\n', classification_report(y_test, y_pred))\\n\\n\"\n",
        "    \"plt.figure(figsize=(15, 8))\\n\"\n",
        "    \"plot_tree(clf, feature_names=X.columns, class_names=['Low', 'High'], filled=True)\\n\"\n",
        "    \"plt.show()\\n\"\n",
        "    \"```\\n\\n\"\n",
        "    \"**Interpreting the Results**\\n\\n\"\n",
        "    \"- **Which feature appears at the top?**\\n\"\n",
        "    \"  - LSTAT (Percentage of lower-status population in the area).\\n\\n\"\n",
        "    \"- **What does this indicate?**\\n\"\n",
        "    \"  - The top feature is the most important in classification. Since LSTAT appears first, it suggests that \"\n",
        "    \"areas with a lower percentage of lower-status residents are more likely to have higher house prices.\\n\\n\"\n",
        "    \"- **Suggested improvements:**\\n\"\n",
        "    \"  - Tune hyperparameters (increase max depth, adjust min samples per leaf).\\n\"\n",
        "    \"  - Use **Random Forest or XGBoost** for better generalization.\\n\"\n",
        "    \"  - Include additional features like crime rate, highway accessibility, or property tax rate.\"\n",
        ")\n",
        "\n",
        "create_question(question_10, answer_10)\n"
      ],
      "metadata": {
        "colab": {
          "base_uri": "https://localhost:8080/",
          "height": 567,
          "referenced_widgets": [
            "40ef92b1385e42c693b73f7dcc6327e5",
            "c829ca465fb545368222b1e85816a5ec",
            "ca0b76fbbc274e5d9e72deec9d0d66aa",
            "59e102d3fdae41d791746093377caaff",
            "ecf0262371214e20869cda25d5492f54"
          ]
        },
        "id": "vJR5Y-EaSHAV",
        "outputId": "8b3472af-952f-4867-b363-ad4aa05d6027"
      },
      "execution_count": 8,
      "outputs": [
        {
          "output_type": "display_data",
          "data": {
            "text/plain": [
              "<IPython.core.display.Markdown object>"
            ],
            "text/markdown": "**Question 10: Essay & Code - Housing Price Classification**\n\nYou are provided with a housing dataset containing the following features:\n- **RM**: Average number of rooms per dwelling.\n- **LSTAT**: Percentage of lower-status population in the area.\n- **PTRATIO**: Pupil-teacher ratio in the neighborhood.\n- **MEDV**: House price in dollars (target variable).\n\n**Task:**\n- Convert the `MEDV` column into a binary classification target:\n  - Calculate the **median** house price.\n  - If `MEDV` is above the median, classify it as `'High' (1)`.\n  - If `MEDV` is below or equal to the median, classify it as `'Low' (0)`.\n- Split the data into training (70%) and testing (30%) sets.\n- Train a **Decision Tree Classifier** with:\n  - Features: `RM`, `LSTAT`, `PTRATIO`.\n  - Max Depth: `3`.\n  - Random State: `42`.\n- Evaluate the model:\n  - Compute accuracy.\n  - Display the confusion matrix.\n  - Generate the classification report.\n- **Visualize** the Decision Tree structure.\n\n**Interpretation Questions:**\n- Which feature appears at the top of the tree?\n- What does this tell you about its importance?\n- Suggest one improvement to this model."
          },
          "metadata": {}
        },
        {
          "output_type": "display_data",
          "data": {
            "text/plain": [
              "Button(description='Click to Reveal Answer', style=ButtonStyle())"
            ],
            "application/vnd.jupyter.widget-view+json": {
              "version_major": 2,
              "version_minor": 0,
              "model_id": "40ef92b1385e42c693b73f7dcc6327e5"
            }
          },
          "metadata": {}
        },
        {
          "output_type": "display_data",
          "data": {
            "text/plain": [
              "Output()"
            ],
            "application/vnd.jupyter.widget-view+json": {
              "version_major": 2,
              "version_minor": 0,
              "model_id": "59e102d3fdae41d791746093377caaff"
            }
          },
          "metadata": {}
        }
      ]
    },
    {
      "cell_type": "markdown",
      "source": [
        "### 📥 Download `housing.csv` from Kaggle and Upload to Colab  \n",
        "#### 🔗 Dataset Link: [Boston Housing Dataset](https://www.kaggle.com/datasets/schirmerchad/bostonhoustingmlnd)  \n"
      ],
      "metadata": {
        "id": "ZSzr1RCWYeJ6"
      }
    },
    {
      "cell_type": "code",
      "source": [
        "# Import necessary libraries\n",
        "import numpy as np  # For numerical operations\n",
        "import pandas as pd  # For handling data\n",
        "import matplotlib.pyplot as plt  # For visualization\n",
        "from sklearn.model_selection import train_test_split  # For splitting data\n",
        "from sklearn.tree import DecisionTreeClassifier, plot_tree  # For decision tree classification and visualization\n",
        "from sklearn.metrics import accuracy_score, confusion_matrix, classification_report  # For model evaluation\n",
        "\n",
        "# Load the housing dataset\n",
        "df = pd.read_csv('/content/housing.csv')  # Read the dataset into a Pandas DataFrame\n",
        "\n",
        "# Convert the 'MEDV' column into a binary classification target\n",
        "median_price = df['MEDV'].median()  # Calculate the median house price\n",
        "df['PriceCategory'] = (df['MEDV'] > median_price).astype(int)  # Convert to binary (1 if above median, 0 otherwise)\n",
        "\n",
        "# Define the target variable (y) and features (X)\n",
        "y = df['PriceCategory']  # Target variable: PriceCategory (High = 1, Low = 0)\n",
        "X = df[['RM', 'LSTAT', 'PTRATIO']]  # Select features: RM (rooms), LSTAT (low-income %), PTRATIO (pupil-teacher ratio)\n",
        "\n",
        "# Split the dataset into training (70%) and testing (30%) sets\n",
        "X_train, X_test, y_train, y_test = train_test_split(X, y, test_size=0.3, random_state=42)\n",
        "# 'random_state=42' ensures results are reproducible\n",
        "\n",
        "# Train a Decision Tree Classifier\n",
        "clf = DecisionTreeClassifier(max_depth=3, random_state=42)  # Create a decision tree model with max depth = 3\n",
        "clf.fit(X_train, y_train)  # Train the model using the training dataset\n",
        "\n",
        "# Make predictions on the test set\n",
        "y_pred = clf.predict(X_test)  # Predict housing price category (High/Low) for test data\n",
        "\n",
        "# Evaluate the model's performance\n",
        "print(f'Accuracy: {accuracy_score(y_test, y_pred):.4f}')  # Print the accuracy of the model\n",
        "print('\\nConfusion Matrix:\\n', confusion_matrix(y_test, y_pred))  # Show confusion matrix (TP, FP, TN, FN)\n",
        "print('\\nClassification Report:\\n', classification_report(y_test, y_pred))  # Show precision, recall, and F1-score\n",
        "\n",
        "# Visualize the trained Decision Tree model\n",
        "plt.figure(figsize=(15, 8))  # Set figure size for better readability\n",
        "plot_tree(clf, feature_names=X.columns, class_names=['Low', 'High'], filled=True)  # Plot the decision tree\n",
        "plt.show()  # Display the visualization\n"
      ],
      "metadata": {
        "colab": {
          "base_uri": "https://localhost:8080/",
          "height": 931
        },
        "id": "fNg-Of3tVPPI",
        "outputId": "03654d7e-b997-44a2-ecfd-8fae0909c7f4"
      },
      "execution_count": 9,
      "outputs": [
        {
          "output_type": "stream",
          "name": "stdout",
          "text": [
            "Accuracy: 0.8027\n",
            "\n",
            "Confusion Matrix:\n",
            " [[63 22]\n",
            " [ 7 55]]\n",
            "\n",
            "Classification Report:\n",
            "               precision    recall  f1-score   support\n",
            "\n",
            "           0       0.90      0.74      0.81        85\n",
            "           1       0.71      0.89      0.79        62\n",
            "\n",
            "    accuracy                           0.80       147\n",
            "   macro avg       0.81      0.81      0.80       147\n",
            "weighted avg       0.82      0.80      0.80       147\n",
            "\n"
          ]
        },
        {
          "output_type": "display_data",
          "data": {
            "text/plain": [
              "<Figure size 1500x800 with 1 Axes>"
            ],
            "image/png": "[encoded data removed]"
          },
          "metadata": {}
        }
      ]
    }
  ]
}