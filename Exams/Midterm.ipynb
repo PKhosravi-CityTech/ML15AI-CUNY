{
  "nbformat": 4,
  "nbformat_minor": 0,
  "metadata": {
    "colab": {
      "provenance": []
    },
    "kernelspec": {
      "name": "python3",
      "display_name": "Python 3"
    },
    "language_info": {
      "name": "python"
    },
    "widgets": {
      "application/vnd.jupyter.widget-state+json": {
        "5f9a64a922c14f539acefd7e22efe51a": {
          "model_module": "@jupyter-widgets/controls",
          "model_name": "ButtonModel",
          "model_module_version": "1.5.0",
          "state": {
            "_dom_classes": [],
            "_model_module": "@jupyter-widgets/controls",
            "_model_module_version": "1.5.0",
            "_model_name": "ButtonModel",
            "_view_count": null,
            "_view_module": "@jupyter-widgets/controls",
            "_view_module_version": "1.5.0",
            "_view_name": "ButtonView",
            "button_style": "",
            "description": "Click to Reveal Answer",
            "disabled": false,
            "icon": "",
            "layout": "IPY_MODEL_309bc0ec20d841b3a7d6a2de6739cb49",
            "style": "IPY_MODEL_0ec1b0e9e3bf40eb8df74222788decee",
            "tooltip": ""
          }
        },
        "309bc0ec20d841b3a7d6a2de6739cb49": {
          "model_module": "@jupyter-widgets/base",
          "model_name": "LayoutModel",
          "model_module_version": "1.2.0",
          "state": {
            "_model_module": "@jupyter-widgets/base",
            "_model_module_version": "1.2.0",
            "_model_name": "LayoutModel",
            "_view_count": null,
            "_view_module": "@jupyter-widgets/base",
            "_view_module_version": "1.2.0",
            "_view_name": "LayoutView",
            "align_content": null,
            "align_items": null,
            "align_self": null,
            "border": null,
            "bottom": null,
            "display": null,
            "flex": null,
            "flex_flow": null,
            "grid_area": null,
            "grid_auto_columns": null,
            "grid_auto_flow": null,
            "grid_auto_rows": null,
            "grid_column": null,
            "grid_gap": null,
            "grid_row": null,
            "grid_template_areas": null,
            "grid_template_columns": null,
            "grid_template_rows": null,
            "height": null,
            "justify_content": null,
            "justify_items": null,
            "left": null,
            "margin": null,
            "max_height": null,
            "max_width": null,
            "min_height": null,
            "min_width": null,
            "object_fit": null,
            "object_position": null,
            "order": null,
            "overflow": null,
            "overflow_x": null,
            "overflow_y": null,
            "padding": null,
            "right": null,
            "top": null,
            "visibility": null,
            "width": null
          }
        },
        "0ec1b0e9e3bf40eb8df74222788decee": {
          "model_module": "@jupyter-widgets/controls",
          "model_name": "ButtonStyleModel",
          "model_module_version": "1.5.0",
          "state": {
            "_model_module": "@jupyter-widgets/controls",
            "_model_module_version": "1.5.0",
            "_model_name": "ButtonStyleModel",
            "_view_count": null,
            "_view_module": "@jupyter-widgets/base",
            "_view_module_version": "1.2.0",
            "_view_name": "StyleView",
            "button_color": null,
            "font_weight": ""
          }
        },
        "6408ad7f9e394a18a2b89c03ff4ce9c4": {
          "model_module": "@jupyter-widgets/output",
          "model_name": "OutputModel",
          "model_module_version": "1.0.0",
          "state": {
            "_dom_classes": [],
            "_model_module": "@jupyter-widgets/output",
            "_model_module_version": "1.0.0",
            "_model_name": "OutputModel",
            "_view_count": null,
            "_view_module": "@jupyter-widgets/output",
            "_view_module_version": "1.0.0",
            "_view_name": "OutputView",
            "layout": "IPY_MODEL_811f1b560a524d65a9cdfe64f18d67c8",
            "msg_id": "",
            "outputs": []
          }
        },
        "811f1b560a524d65a9cdfe64f18d67c8": {
          "model_module": "@jupyter-widgets/base",
          "model_name": "LayoutModel",
          "model_module_version": "1.2.0",
          "state": {
            "_model_module": "@jupyter-widgets/base",
            "_model_module_version": "1.2.0",
            "_model_name": "LayoutModel",
            "_view_count": null,
            "_view_module": "@jupyter-widgets/base",
            "_view_module_version": "1.2.0",
            "_view_name": "LayoutView",
            "align_content": null,
            "align_items": null,
            "align_self": null,
            "border": null,
            "bottom": null,
            "display": null,
            "flex": null,
            "flex_flow": null,
            "grid_area": null,
            "grid_auto_columns": null,
            "grid_auto_flow": null,
            "grid_auto_rows": null,
            "grid_column": null,
            "grid_gap": null,
            "grid_row": null,
            "grid_template_areas": null,
            "grid_template_columns": null,
            "grid_template_rows": null,
            "height": null,
            "justify_content": null,
            "justify_items": null,
            "left": null,
            "margin": null,
            "max_height": null,
            "max_width": null,
            "min_height": null,
            "min_width": null,
            "object_fit": null,
            "object_position": null,
            "order": null,
            "overflow": null,
            "overflow_x": null,
            "overflow_y": null,
            "padding": null,
            "right": null,
            "top": null,
            "visibility": null,
            "width": null
          }
        },
        "2dbd42d401794655a81c3fe81ebb798e": {
          "model_module": "@jupyter-widgets/controls",
          "model_name": "ButtonModel",
          "model_module_version": "1.5.0",
          "state": {
            "_dom_classes": [],
            "_model_module": "@jupyter-widgets/controls",
            "_model_module_version": "1.5.0",
            "_model_name": "ButtonModel",
            "_view_count": null,
            "_view_module": "@jupyter-widgets/controls",
            "_view_module_version": "1.5.0",
            "_view_name": "ButtonView",
            "button_style": "",
            "description": "Click to Reveal Answer",
            "disabled": false,
            "icon": "",
            "layout": "IPY_MODEL_563c7d022da7417b82dcf17e34165ad2",
            "style": "IPY_MODEL_289d7f924d464ade82455d7cc069da05",
            "tooltip": ""
          }
        },
        "563c7d022da7417b82dcf17e34165ad2": {
          "model_module": "@jupyter-widgets/base",
          "model_name": "LayoutModel",
          "model_module_version": "1.2.0",
          "state": {
            "_model_module": "@jupyter-widgets/base",
            "_model_module_version": "1.2.0",
            "_model_name": "LayoutModel",
            "_view_count": null,
            "_view_module": "@jupyter-widgets/base",
            "_view_module_version": "1.2.0",
            "_view_name": "LayoutView",
            "align_content": null,
            "align_items": null,
            "align_self": null,
            "border": null,
            "bottom": null,
            "display": null,
            "flex": null,
            "flex_flow": null,
            "grid_area": null,
            "grid_auto_columns": null,
            "grid_auto_flow": null,
            "grid_auto_rows": null,
            "grid_column": null,
            "grid_gap": null,
            "grid_row": null,
            "grid_template_areas": null,
            "grid_template_columns": null,
            "grid_template_rows": null,
            "height": null,
            "justify_content": null,
            "justify_items": null,
            "left": null,
            "margin": null,
            "max_height": null,
            "max_width": null,
            "min_height": null,
            "min_width": null,
            "object_fit": null,
            "object_position": null,
            "order": null,
            "overflow": null,
            "overflow_x": null,
            "overflow_y": null,
            "padding": null,
            "right": null,
            "top": null,
            "visibility": null,
            "width": null
          }
        },
        "289d7f924d464ade82455d7cc069da05": {
          "model_module": "@jupyter-widgets/controls",
          "model_name": "ButtonStyleModel",
          "model_module_version": "1.5.0",
          "state": {
            "_model_module": "@jupyter-widgets/controls",
            "_model_module_version": "1.5.0",
            "_model_name": "ButtonStyleModel",
            "_view_count": null,
            "_view_module": "@jupyter-widgets/base",
            "_view_module_version": "1.2.0",
            "_view_name": "StyleView",
            "button_color": null,
            "font_weight": ""
          }
        },
        "25d961bd8b314e82adbdf38417a7b29f": {
          "model_module": "@jupyter-widgets/output",
          "model_name": "OutputModel",
          "model_module_version": "1.0.0",
          "state": {
            "_dom_classes": [],
            "_model_module": "@jupyter-widgets/output",
            "_model_module_version": "1.0.0",
            "_model_name": "OutputModel",
            "_view_count": null,
            "_view_module": "@jupyter-widgets/output",
            "_view_module_version": "1.0.0",
            "_view_name": "OutputView",
            "layout": "IPY_MODEL_aeaf5f88fad64fc39c4c74b2e14a6984",
            "msg_id": "",
            "outputs": []
          }
        },
        "aeaf5f88fad64fc39c4c74b2e14a6984": {
          "model_module": "@jupyter-widgets/base",
          "model_name": "LayoutModel",
          "model_module_version": "1.2.0",
          "state": {
            "_model_module": "@jupyter-widgets/base",
            "_model_module_version": "1.2.0",
            "_model_name": "LayoutModel",
            "_view_count": null,
            "_view_module": "@jupyter-widgets/base",
            "_view_module_version": "1.2.0",
            "_view_name": "LayoutView",
            "align_content": null,
            "align_items": null,
            "align_self": null,
            "border": null,
            "bottom": null,
            "display": null,
            "flex": null,
            "flex_flow": null,
            "grid_area": null,
            "grid_auto_columns": null,
            "grid_auto_flow": null,
            "grid_auto_rows": null,
            "grid_column": null,
            "grid_gap": null,
            "grid_row": null,
            "grid_template_areas": null,
            "grid_template_columns": null,
            "grid_template_rows": null,
            "height": null,
            "justify_content": null,
            "justify_items": null,
            "left": null,
            "margin": null,
            "max_height": null,
            "max_width": null,
            "min_height": null,
            "min_width": null,
            "object_fit": null,
            "object_position": null,
            "order": null,
            "overflow": null,
            "overflow_x": null,
            "overflow_y": null,
            "padding": null,
            "right": null,
            "top": null,
            "visibility": null,
            "width": null
          }
        },
        "dd1be1b8c1e34aea9670304fa00153e2": {
          "model_module": "@jupyter-widgets/controls",
          "model_name": "ButtonModel",
          "model_module_version": "1.5.0",
          "state": {
            "_dom_classes": [],
            "_model_module": "@jupyter-widgets/controls",
            "_model_module_version": "1.5.0",
            "_model_name": "ButtonModel",
            "_view_count": null,
            "_view_module": "@jupyter-widgets/controls",
            "_view_module_version": "1.5.0",
            "_view_name": "ButtonView",
            "button_style": "",
            "description": "Click to Reveal Answer",
            "disabled": false,
            "icon": "",
            "layout": "IPY_MODEL_07afed13e2844de683597e4f058fb874",
            "style": "IPY_MODEL_5ce7cb924b9f4fbab3451da53bcef881",
            "tooltip": ""
          }
        },
        "07afed13e2844de683597e4f058fb874": {
          "model_module": "@jupyter-widgets/base",
          "model_name": "LayoutModel",
          "model_module_version": "1.2.0",
          "state": {
            "_model_module": "@jupyter-widgets/base",
            "_model_module_version": "1.2.0",
            "_model_name": "LayoutModel",
            "_view_count": null,
            "_view_module": "@jupyter-widgets/base",
            "_view_module_version": "1.2.0",
            "_view_name": "LayoutView",
            "align_content": null,
            "align_items": null,
            "align_self": null,
            "border": null,
            "bottom": null,
            "display": null,
            "flex": null,
            "flex_flow": null,
            "grid_area": null,
            "grid_auto_columns": null,
            "grid_auto_flow": null,
            "grid_auto_rows": null,
            "grid_column": null,
            "grid_gap": null,
            "grid_row": null,
            "grid_template_areas": null,
            "grid_template_columns": null,
            "grid_template_rows": null,
            "height": null,
            "justify_content": null,
            "justify_items": null,
            "left": null,
            "margin": null,
            "max_height": null,
            "max_width": null,
            "min_height": null,
            "min_width": null,
            "object_fit": null,
            "object_position": null,
            "order": null,
            "overflow": null,
            "overflow_x": null,
            "overflow_y": null,
            "padding": null,
            "right": null,
            "top": null,
            "visibility": null,
            "width": null
          }
        },
        "5ce7cb924b9f4fbab3451da53bcef881": {
          "model_module": "@jupyter-widgets/controls",
          "model_name": "ButtonStyleModel",
          "model_module_version": "1.5.0",
          "state": {
            "_model_module": "@jupyter-widgets/controls",
            "_model_module_version": "1.5.0",
            "_model_name": "ButtonStyleModel",
            "_view_count": null,
            "_view_module": "@jupyter-widgets/base",
            "_view_module_version": "1.2.0",
            "_view_name": "StyleView",
            "button_color": null,
            "font_weight": ""
          }
        },
        "da534e00b82a4d39bdb1b733150c9324": {
          "model_module": "@jupyter-widgets/output",
          "model_name": "OutputModel",
          "model_module_version": "1.0.0",
          "state": {
            "_dom_classes": [],
            "_model_module": "@jupyter-widgets/output",
            "_model_module_version": "1.0.0",
            "_model_name": "OutputModel",
            "_view_count": null,
            "_view_module": "@jupyter-widgets/output",
            "_view_module_version": "1.0.0",
            "_view_name": "OutputView",
            "layout": "IPY_MODEL_99b013dada46424d9216fcf2300879e0",
            "msg_id": "",
            "outputs": []
          }
        },
        "99b013dada46424d9216fcf2300879e0": {
          "model_module": "@jupyter-widgets/base",
          "model_name": "LayoutModel",
          "model_module_version": "1.2.0",
          "state": {
            "_model_module": "@jupyter-widgets/base",
            "_model_module_version": "1.2.0",
            "_model_name": "LayoutModel",
            "_view_count": null,
            "_view_module": "@jupyter-widgets/base",
            "_view_module_version": "1.2.0",
            "_view_name": "LayoutView",
            "align_content": null,
            "align_items": null,
            "align_self": null,
            "border": null,
            "bottom": null,
            "display": null,
            "flex": null,
            "flex_flow": null,
            "grid_area": null,
            "grid_auto_columns": null,
            "grid_auto_flow": null,
            "grid_auto_rows": null,
            "grid_column": null,
            "grid_gap": null,
            "grid_row": null,
            "grid_template_areas": null,
            "grid_template_columns": null,
            "grid_template_rows": null,
            "height": null,
            "justify_content": null,
            "justify_items": null,
            "left": null,
            "margin": null,
            "max_height": null,
            "max_width": null,
            "min_height": null,
            "min_width": null,
            "object_fit": null,
            "object_position": null,
            "order": null,
            "overflow": null,
            "overflow_x": null,
            "overflow_y": null,
            "padding": null,
            "right": null,
            "top": null,
            "visibility": null,
            "width": null
          }
        },
        "a037496285cd4a8ab00fd9b1990152c6": {
          "model_module": "@jupyter-widgets/controls",
          "model_name": "ButtonModel",
          "model_module_version": "1.5.0",
          "state": {
            "_dom_classes": [],
            "_model_module": "@jupyter-widgets/controls",
            "_model_module_version": "1.5.0",
            "_model_name": "ButtonModel",
            "_view_count": null,
            "_view_module": "@jupyter-widgets/controls",
            "_view_module_version": "1.5.0",
            "_view_name": "ButtonView",
            "button_style": "",
            "description": "Click to Reveal Answer",
            "disabled": false,
            "icon": "",
            "layout": "IPY_MODEL_72148cb21d0f4ae49d290bd2662fbc52",
            "style": "IPY_MODEL_886baa18b50f43f1aba5bb2c44756433",
            "tooltip": ""
          }
        },
        "72148cb21d0f4ae49d290bd2662fbc52": {
          "model_module": "@jupyter-widgets/base",
          "model_name": "LayoutModel",
          "model_module_version": "1.2.0",
          "state": {
            "_model_module": "@jupyter-widgets/base",
            "_model_module_version": "1.2.0",
            "_model_name": "LayoutModel",
            "_view_count": null,
            "_view_module": "@jupyter-widgets/base",
            "_view_module_version": "1.2.0",
            "_view_name": "LayoutView",
            "align_content": null,
            "align_items": null,
            "align_self": null,
            "border": null,
            "bottom": null,
            "display": null,
            "flex": null,
            "flex_flow": null,
            "grid_area": null,
            "grid_auto_columns": null,
            "grid_auto_flow": null,
            "grid_auto_rows": null,
            "grid_column": null,
            "grid_gap": null,
            "grid_row": null,
            "grid_template_areas": null,
            "grid_template_columns": null,
            "grid_template_rows": null,
            "height": null,
            "justify_content": null,
            "justify_items": null,
            "left": null,
            "margin": null,
            "max_height": null,
            "max_width": null,
            "min_height": null,
            "min_width": null,
            "object_fit": null,
            "object_position": null,
            "order": null,
            "overflow": null,
            "overflow_x": null,
            "overflow_y": null,
            "padding": null,
            "right": null,
            "top": null,
            "visibility": null,
            "width": null
          }
        },
        "886baa18b50f43f1aba5bb2c44756433": {
          "model_module": "@jupyter-widgets/controls",
          "model_name": "ButtonStyleModel",
          "model_module_version": "1.5.0",
          "state": {
            "_model_module": "@jupyter-widgets/controls",
            "_model_module_version": "1.5.0",
            "_model_name": "ButtonStyleModel",
            "_view_count": null,
            "_view_module": "@jupyter-widgets/base",
            "_view_module_version": "1.2.0",
            "_view_name": "StyleView",
            "button_color": null,
            "font_weight": ""
          }
        },
        "29080bf7d0f843ee8766c93366f84676": {
          "model_module": "@jupyter-widgets/output",
          "model_name": "OutputModel",
          "model_module_version": "1.0.0",
          "state": {
            "_dom_classes": [],
            "_model_module": "@jupyter-widgets/output",
            "_model_module_version": "1.0.0",
            "_model_name": "OutputModel",
            "_view_count": null,
            "_view_module": "@jupyter-widgets/output",
            "_view_module_version": "1.0.0",
            "_view_name": "OutputView",
            "layout": "IPY_MODEL_bf156320b66e474c8d43252f81cd0abf",
            "msg_id": "",
            "outputs": []
          }
        },
        "bf156320b66e474c8d43252f81cd0abf": {
          "model_module": "@jupyter-widgets/base",
          "model_name": "LayoutModel",
          "model_module_version": "1.2.0",
          "state": {
            "_model_module": "@jupyter-widgets/base",
            "_model_module_version": "1.2.0",
            "_model_name": "LayoutModel",
            "_view_count": null,
            "_view_module": "@jupyter-widgets/base",
            "_view_module_version": "1.2.0",
            "_view_name": "LayoutView",
            "align_content": null,
            "align_items": null,
            "align_self": null,
            "border": null,
            "bottom": null,
            "display": null,
            "flex": null,
            "flex_flow": null,
            "grid_area": null,
            "grid_auto_columns": null,
            "grid_auto_flow": null,
            "grid_auto_rows": null,
            "grid_column": null,
            "grid_gap": null,
            "grid_row": null,
            "grid_template_areas": null,
            "grid_template_columns": null,
            "grid_template_rows": null,
            "height": null,
            "justify_content": null,
            "justify_items": null,
            "left": null,
            "margin": null,
            "max_height": null,
            "max_width": null,
            "min_height": null,
            "min_width": null,
            "object_fit": null,
            "object_position": null,
            "order": null,
            "overflow": null,
            "overflow_x": null,
            "overflow_y": null,
            "padding": null,
            "right": null,
            "top": null,
            "visibility": null,
            "width": null
          }
        },
        "1f15bb7e8d864a2a83fdbf5ac1d1bc88": {
          "model_module": "@jupyter-widgets/controls",
          "model_name": "ButtonModel",
          "model_module_version": "1.5.0",
          "state": {
            "_dom_classes": [],
            "_model_module": "@jupyter-widgets/controls",
            "_model_module_version": "1.5.0",
            "_model_name": "ButtonModel",
            "_view_count": null,
            "_view_module": "@jupyter-widgets/controls",
            "_view_module_version": "1.5.0",
            "_view_name": "ButtonView",
            "button_style": "",
            "description": "Click to Reveal Answer",
            "disabled": false,
            "icon": "",
            "layout": "IPY_MODEL_c38810940f504b93b15c01a828bef068",
            "style": "IPY_MODEL_a2d66669b3d94614b9b96e6421aa7307",
            "tooltip": ""
          }
        },
        "c38810940f504b93b15c01a828bef068": {
          "model_module": "@jupyter-widgets/base",
          "model_name": "LayoutModel",
          "model_module_version": "1.2.0",
          "state": {
            "_model_module": "@jupyter-widgets/base",
            "_model_module_version": "1.2.0",
            "_model_name": "LayoutModel",
            "_view_count": null,
            "_view_module": "@jupyter-widgets/base",
            "_view_module_version": "1.2.0",
            "_view_name": "LayoutView",
            "align_content": null,
            "align_items": null,
            "align_self": null,
            "border": null,
            "bottom": null,
            "display": null,
            "flex": null,
            "flex_flow": null,
            "grid_area": null,
            "grid_auto_columns": null,
            "grid_auto_flow": null,
            "grid_auto_rows": null,
            "grid_column": null,
            "grid_gap": null,
            "grid_row": null,
            "grid_template_areas": null,
            "grid_template_columns": null,
            "grid_template_rows": null,
            "height": null,
            "justify_content": null,
            "justify_items": null,
            "left": null,
            "margin": null,
            "max_height": null,
            "max_width": null,
            "min_height": null,
            "min_width": null,
            "object_fit": null,
            "object_position": null,
            "order": null,
            "overflow": null,
            "overflow_x": null,
            "overflow_y": null,
            "padding": null,
            "right": null,
            "top": null,
            "visibility": null,
            "width": null
          }
        },
        "a2d66669b3d94614b9b96e6421aa7307": {
          "model_module": "@jupyter-widgets/controls",
          "model_name": "ButtonStyleModel",
          "model_module_version": "1.5.0",
          "state": {
            "_model_module": "@jupyter-widgets/controls",
            "_model_module_version": "1.5.0",
            "_model_name": "ButtonStyleModel",
            "_view_count": null,
            "_view_module": "@jupyter-widgets/base",
            "_view_module_version": "1.2.0",
            "_view_name": "StyleView",
            "button_color": null,
            "font_weight": ""
          }
        },
        "3cf3f3f81cf8485a8e399d7b6f9c0215": {
          "model_module": "@jupyter-widgets/output",
          "model_name": "OutputModel",
          "model_module_version": "1.0.0",
          "state": {
            "_dom_classes": [],
            "_model_module": "@jupyter-widgets/output",
            "_model_module_version": "1.0.0",
            "_model_name": "OutputModel",
            "_view_count": null,
            "_view_module": "@jupyter-widgets/output",
            "_view_module_version": "1.0.0",
            "_view_name": "OutputView",
            "layout": "IPY_MODEL_ed0e4ae18b874822bfa62a778978fd1d",
            "msg_id": "",
            "outputs": []
          }
        },
        "ed0e4ae18b874822bfa62a778978fd1d": {
          "model_module": "@jupyter-widgets/base",
          "model_name": "LayoutModel",
          "model_module_version": "1.2.0",
          "state": {
            "_model_module": "@jupyter-widgets/base",
            "_model_module_version": "1.2.0",
            "_model_name": "LayoutModel",
            "_view_count": null,
            "_view_module": "@jupyter-widgets/base",
            "_view_module_version": "1.2.0",
            "_view_name": "LayoutView",
            "align_content": null,
            "align_items": null,
            "align_self": null,
            "border": null,
            "bottom": null,
            "display": null,
            "flex": null,
            "flex_flow": null,
            "grid_area": null,
            "grid_auto_columns": null,
            "grid_auto_flow": null,
            "grid_auto_rows": null,
            "grid_column": null,
            "grid_gap": null,
            "grid_row": null,
            "grid_template_areas": null,
            "grid_template_columns": null,
            "grid_template_rows": null,
            "height": null,
            "justify_content": null,
            "justify_items": null,
            "left": null,
            "margin": null,
            "max_height": null,
            "max_width": null,
            "min_height": null,
            "min_width": null,
            "object_fit": null,
            "object_position": null,
            "order": null,
            "overflow": null,
            "overflow_x": null,
            "overflow_y": null,
            "padding": null,
            "right": null,
            "top": null,
            "visibility": null,
            "width": null
          }
        },
        "eece4deec1a148c3b70d8f3898fb0a47": {
          "model_module": "@jupyter-widgets/controls",
          "model_name": "ButtonModel",
          "model_module_version": "1.5.0",
          "state": {
            "_dom_classes": [],
            "_model_module": "@jupyter-widgets/controls",
            "_model_module_version": "1.5.0",
            "_model_name": "ButtonModel",
            "_view_count": null,
            "_view_module": "@jupyter-widgets/controls",
            "_view_module_version": "1.5.0",
            "_view_name": "ButtonView",
            "button_style": "",
            "description": "Click to Reveal Answer",
            "disabled": false,
            "icon": "",
            "layout": "IPY_MODEL_3661fd4db9a14b4d8f275cdb0ef66863",
            "style": "IPY_MODEL_ceb54b9f65174c449417e2d16aa22a98",
            "tooltip": ""
          }
        },
        "3661fd4db9a14b4d8f275cdb0ef66863": {
          "model_module": "@jupyter-widgets/base",
          "model_name": "LayoutModel",
          "model_module_version": "1.2.0",
          "state": {
            "_model_module": "@jupyter-widgets/base",
            "_model_module_version": "1.2.0",
            "_model_name": "LayoutModel",
            "_view_count": null,
            "_view_module": "@jupyter-widgets/base",
            "_view_module_version": "1.2.0",
            "_view_name": "LayoutView",
            "align_content": null,
            "align_items": null,
            "align_self": null,
            "border": null,
            "bottom": null,
            "display": null,
            "flex": null,
            "flex_flow": null,
            "grid_area": null,
            "grid_auto_columns": null,
            "grid_auto_flow": null,
            "grid_auto_rows": null,
            "grid_column": null,
            "grid_gap": null,
            "grid_row": null,
            "grid_template_areas": null,
            "grid_template_columns": null,
            "grid_template_rows": null,
            "height": null,
            "justify_content": null,
            "justify_items": null,
            "left": null,
            "margin": null,
            "max_height": null,
            "max_width": null,
            "min_height": null,
            "min_width": null,
            "object_fit": null,
            "object_position": null,
            "order": null,
            "overflow": null,
            "overflow_x": null,
            "overflow_y": null,
            "padding": null,
            "right": null,
            "top": null,
            "visibility": null,
            "width": null
          }
        },
        "ceb54b9f65174c449417e2d16aa22a98": {
          "model_module": "@jupyter-widgets/controls",
          "model_name": "ButtonStyleModel",
          "model_module_version": "1.5.0",
          "state": {
            "_model_module": "@jupyter-widgets/controls",
            "_model_module_version": "1.5.0",
            "_model_name": "ButtonStyleModel",
            "_view_count": null,
            "_view_module": "@jupyter-widgets/base",
            "_view_module_version": "1.2.0",
            "_view_name": "StyleView",
            "button_color": null,
            "font_weight": ""
          }
        },
        "fa94338748714f73834fc3123e8c6d22": {
          "model_module": "@jupyter-widgets/output",
          "model_name": "OutputModel",
          "model_module_version": "1.0.0",
          "state": {
            "_dom_classes": [],
            "_model_module": "@jupyter-widgets/output",
            "_model_module_version": "1.0.0",
            "_model_name": "OutputModel",
            "_view_count": null,
            "_view_module": "@jupyter-widgets/output",
            "_view_module_version": "1.0.0",
            "_view_name": "OutputView",
            "layout": "IPY_MODEL_bc13142863ee4a87b22c2748937dc1eb",
            "msg_id": "",
            "outputs": []
          }
        },
        "bc13142863ee4a87b22c2748937dc1eb": {
          "model_module": "@jupyter-widgets/base",
          "model_name": "LayoutModel",
          "model_module_version": "1.2.0",
          "state": {
            "_model_module": "@jupyter-widgets/base",
            "_model_module_version": "1.2.0",
            "_model_name": "LayoutModel",
            "_view_count": null,
            "_view_module": "@jupyter-widgets/base",
            "_view_module_version": "1.2.0",
            "_view_name": "LayoutView",
            "align_content": null,
            "align_items": null,
            "align_self": null,
            "border": null,
            "bottom": null,
            "display": null,
            "flex": null,
            "flex_flow": null,
            "grid_area": null,
            "grid_auto_columns": null,
            "grid_auto_flow": null,
            "grid_auto_rows": null,
            "grid_column": null,
            "grid_gap": null,
            "grid_row": null,
            "grid_template_areas": null,
            "grid_template_columns": null,
            "grid_template_rows": null,
            "height": null,
            "justify_content": null,
            "justify_items": null,
            "left": null,
            "margin": null,
            "max_height": null,
            "max_width": null,
            "min_height": null,
            "min_width": null,
            "object_fit": null,
            "object_position": null,
            "order": null,
            "overflow": null,
            "overflow_x": null,
            "overflow_y": null,
            "padding": null,
            "right": null,
            "top": null,
            "visibility": null,
            "width": null
          }
        },
        "6eca4a772e4d4dc58deaba1197255b7e": {
          "model_module": "@jupyter-widgets/controls",
          "model_name": "ButtonModel",
          "model_module_version": "1.5.0",
          "state": {
            "_dom_classes": [],
            "_model_module": "@jupyter-widgets/controls",
            "_model_module_version": "1.5.0",
            "_model_name": "ButtonModel",
            "_view_count": null,
            "_view_module": "@jupyter-widgets/controls",
            "_view_module_version": "1.5.0",
            "_view_name": "ButtonView",
            "button_style": "",
            "description": "Click to Reveal Answer",
            "disabled": false,
            "icon": "",
            "layout": "IPY_MODEL_02551099005941a3887f7a98b991c793",
            "style": "IPY_MODEL_18982b5d0f61496e89ae249eea68e5c5",
            "tooltip": ""
          }
        },
        "02551099005941a3887f7a98b991c793": {
          "model_module": "@jupyter-widgets/base",
          "model_name": "LayoutModel",
          "model_module_version": "1.2.0",
          "state": {
            "_model_module": "@jupyter-widgets/base",
            "_model_module_version": "1.2.0",
            "_model_name": "LayoutModel",
            "_view_count": null,
            "_view_module": "@jupyter-widgets/base",
            "_view_module_version": "1.2.0",
            "_view_name": "LayoutView",
            "align_content": null,
            "align_items": null,
            "align_self": null,
            "border": null,
            "bottom": null,
            "display": null,
            "flex": null,
            "flex_flow": null,
            "grid_area": null,
            "grid_auto_columns": null,
            "grid_auto_flow": null,
            "grid_auto_rows": null,
            "grid_column": null,
            "grid_gap": null,
            "grid_row": null,
            "grid_template_areas": null,
            "grid_template_columns": null,
            "grid_template_rows": null,
            "height": null,
            "justify_content": null,
            "justify_items": null,
            "left": null,
            "margin": null,
            "max_height": null,
            "max_width": null,
            "min_height": null,
            "min_width": null,
            "object_fit": null,
            "object_position": null,
            "order": null,
            "overflow": null,
            "overflow_x": null,
            "overflow_y": null,
            "padding": null,
            "right": null,
            "top": null,
            "visibility": null,
            "width": null
          }
        },
        "18982b5d0f61496e89ae249eea68e5c5": {
          "model_module": "@jupyter-widgets/controls",
          "model_name": "ButtonStyleModel",
          "model_module_version": "1.5.0",
          "state": {
            "_model_module": "@jupyter-widgets/controls",
            "_model_module_version": "1.5.0",
            "_model_name": "ButtonStyleModel",
            "_view_count": null,
            "_view_module": "@jupyter-widgets/base",
            "_view_module_version": "1.2.0",
            "_view_name": "StyleView",
            "button_color": null,
            "font_weight": ""
          }
        },
        "3dc63f735bab482fb3fbb5c3b2d39cc2": {
          "model_module": "@jupyter-widgets/output",
          "model_name": "OutputModel",
          "model_module_version": "1.0.0",
          "state": {
            "_dom_classes": [],
            "_model_module": "@jupyter-widgets/output",
            "_model_module_version": "1.0.0",
            "_model_name": "OutputModel",
            "_view_count": null,
            "_view_module": "@jupyter-widgets/output",
            "_view_module_version": "1.0.0",
            "_view_name": "OutputView",
            "layout": "IPY_MODEL_77c3c9f1a6f24491a16362c332c76d03",
            "msg_id": "",
            "outputs": []
          }
        },
        "77c3c9f1a6f24491a16362c332c76d03": {
          "model_module": "@jupyter-widgets/base",
          "model_name": "LayoutModel",
          "model_module_version": "1.2.0",
          "state": {
            "_model_module": "@jupyter-widgets/base",
            "_model_module_version": "1.2.0",
            "_model_name": "LayoutModel",
            "_view_count": null,
            "_view_module": "@jupyter-widgets/base",
            "_view_module_version": "1.2.0",
            "_view_name": "LayoutView",
            "align_content": null,
            "align_items": null,
            "align_self": null,
            "border": null,
            "bottom": null,
            "display": null,
            "flex": null,
            "flex_flow": null,
            "grid_area": null,
            "grid_auto_columns": null,
            "grid_auto_flow": null,
            "grid_auto_rows": null,
            "grid_column": null,
            "grid_gap": null,
            "grid_row": null,
            "grid_template_areas": null,
            "grid_template_columns": null,
            "grid_template_rows": null,
            "height": null,
            "justify_content": null,
            "justify_items": null,
            "left": null,
            "margin": null,
            "max_height": null,
            "max_width": null,
            "min_height": null,
            "min_width": null,
            "object_fit": null,
            "object_position": null,
            "order": null,
            "overflow": null,
            "overflow_x": null,
            "overflow_y": null,
            "padding": null,
            "right": null,
            "top": null,
            "visibility": null,
            "width": null
          }
        },
        "24ba998a955c4eafa3e5e29121c4d734": {
          "model_module": "@jupyter-widgets/controls",
          "model_name": "ButtonModel",
          "model_module_version": "1.5.0",
          "state": {
            "_dom_classes": [],
            "_model_module": "@jupyter-widgets/controls",
            "_model_module_version": "1.5.0",
            "_model_name": "ButtonModel",
            "_view_count": null,
            "_view_module": "@jupyter-widgets/controls",
            "_view_module_version": "1.5.0",
            "_view_name": "ButtonView",
            "button_style": "",
            "description": "Click to Reveal Answer",
            "disabled": false,
            "icon": "",
            "layout": "IPY_MODEL_2abd14bc15ca4ba485d06af5596973e8",
            "style": "IPY_MODEL_07d5575c23b04167b2ab75a2283d6d3c",
            "tooltip": ""
          }
        },
        "2abd14bc15ca4ba485d06af5596973e8": {
          "model_module": "@jupyter-widgets/base",
          "model_name": "LayoutModel",
          "model_module_version": "1.2.0",
          "state": {
            "_model_module": "@jupyter-widgets/base",
            "_model_module_version": "1.2.0",
            "_model_name": "LayoutModel",
            "_view_count": null,
            "_view_module": "@jupyter-widgets/base",
            "_view_module_version": "1.2.0",
            "_view_name": "LayoutView",
            "align_content": null,
            "align_items": null,
            "align_self": null,
            "border": null,
            "bottom": null,
            "display": null,
            "flex": null,
            "flex_flow": null,
            "grid_area": null,
            "grid_auto_columns": null,
            "grid_auto_flow": null,
            "grid_auto_rows": null,
            "grid_column": null,
            "grid_gap": null,
            "grid_row": null,
            "grid_template_areas": null,
            "grid_template_columns": null,
            "grid_template_rows": null,
            "height": null,
            "justify_content": null,
            "justify_items": null,
            "left": null,
            "margin": null,
            "max_height": null,
            "max_width": null,
            "min_height": null,
            "min_width": null,
            "object_fit": null,
            "object_position": null,
            "order": null,
            "overflow": null,
            "overflow_x": null,
            "overflow_y": null,
            "padding": null,
            "right": null,
            "top": null,
            "visibility": null,
            "width": null
          }
        },
        "07d5575c23b04167b2ab75a2283d6d3c": {
          "model_module": "@jupyter-widgets/controls",
          "model_name": "ButtonStyleModel",
          "model_module_version": "1.5.0",
          "state": {
            "_model_module": "@jupyter-widgets/controls",
            "_model_module_version": "1.5.0",
            "_model_name": "ButtonStyleModel",
            "_view_count": null,
            "_view_module": "@jupyter-widgets/base",
            "_view_module_version": "1.2.0",
            "_view_name": "StyleView",
            "button_color": null,
            "font_weight": ""
          }
        },
        "3689b70b25104809b6ce7f1be87def5c": {
          "model_module": "@jupyter-widgets/output",
          "model_name": "OutputModel",
          "model_module_version": "1.0.0",
          "state": {
            "_dom_classes": [],
            "_model_module": "@jupyter-widgets/output",
            "_model_module_version": "1.0.0",
            "_model_name": "OutputModel",
            "_view_count": null,
            "_view_module": "@jupyter-widgets/output",
            "_view_module_version": "1.0.0",
            "_view_name": "OutputView",
            "layout": "IPY_MODEL_e686fe73cb604d2c88ce09726fc83973",
            "msg_id": "",
            "outputs": []
          }
        },
        "e686fe73cb604d2c88ce09726fc83973": {
          "model_module": "@jupyter-widgets/base",
          "model_name": "LayoutModel",
          "model_module_version": "1.2.0",
          "state": {
            "_model_module": "@jupyter-widgets/base",
            "_model_module_version": "1.2.0",
            "_model_name": "LayoutModel",
            "_view_count": null,
            "_view_module": "@jupyter-widgets/base",
            "_view_module_version": "1.2.0",
            "_view_name": "LayoutView",
            "align_content": null,
            "align_items": null,
            "align_self": null,
            "border": null,
            "bottom": null,
            "display": null,
            "flex": null,
            "flex_flow": null,
            "grid_area": null,
            "grid_auto_columns": null,
            "grid_auto_flow": null,
            "grid_auto_rows": null,
            "grid_column": null,
            "grid_gap": null,
            "grid_row": null,
            "grid_template_areas": null,
            "grid_template_columns": null,
            "grid_template_rows": null,
            "height": null,
            "justify_content": null,
            "justify_items": null,
            "left": null,
            "margin": null,
            "max_height": null,
            "max_width": null,
            "min_height": null,
            "min_width": null,
            "object_fit": null,
            "object_position": null,
            "order": null,
            "overflow": null,
            "overflow_x": null,
            "overflow_y": null,
            "padding": null,
            "right": null,
            "top": null,
            "visibility": null,
            "width": null
          }
        },
        "a1f8c81ac3dd450085d65e61f89736db": {
          "model_module": "@jupyter-widgets/controls",
          "model_name": "ButtonModel",
          "model_module_version": "1.5.0",
          "state": {
            "_dom_classes": [],
            "_model_module": "@jupyter-widgets/controls",
            "_model_module_version": "1.5.0",
            "_model_name": "ButtonModel",
            "_view_count": null,
            "_view_module": "@jupyter-widgets/controls",
            "_view_module_version": "1.5.0",
            "_view_name": "ButtonView",
            "button_style": "",
            "description": "Click to Reveal Answer",
            "disabled": false,
            "icon": "",
            "layout": "IPY_MODEL_750d5c1481874eed878a87526932504e",
            "style": "IPY_MODEL_3a5eccf594184ff2b427f31d7468cc33",
            "tooltip": ""
          }
        },
        "750d5c1481874eed878a87526932504e": {
          "model_module": "@jupyter-widgets/base",
          "model_name": "LayoutModel",
          "model_module_version": "1.2.0",
          "state": {
            "_model_module": "@jupyter-widgets/base",
            "_model_module_version": "1.2.0",
            "_model_name": "LayoutModel",
            "_view_count": null,
            "_view_module": "@jupyter-widgets/base",
            "_view_module_version": "1.2.0",
            "_view_name": "LayoutView",
            "align_content": null,
            "align_items": null,
            "align_self": null,
            "border": null,
            "bottom": null,
            "display": null,
            "flex": null,
            "flex_flow": null,
            "grid_area": null,
            "grid_auto_columns": null,
            "grid_auto_flow": null,
            "grid_auto_rows": null,
            "grid_column": null,
            "grid_gap": null,
            "grid_row": null,
            "grid_template_areas": null,
            "grid_template_columns": null,
            "grid_template_rows": null,
            "height": null,
            "justify_content": null,
            "justify_items": null,
            "left": null,
            "margin": null,
            "max_height": null,
            "max_width": null,
            "min_height": null,
            "min_width": null,
            "object_fit": null,
            "object_position": null,
            "order": null,
            "overflow": null,
            "overflow_x": null,
            "overflow_y": null,
            "padding": null,
            "right": null,
            "top": null,
            "visibility": null,
            "width": null
          }
        },
        "3a5eccf594184ff2b427f31d7468cc33": {
          "model_module": "@jupyter-widgets/controls",
          "model_name": "ButtonStyleModel",
          "model_module_version": "1.5.0",
          "state": {
            "_model_module": "@jupyter-widgets/controls",
            "_model_module_version": "1.5.0",
            "_model_name": "ButtonStyleModel",
            "_view_count": null,
            "_view_module": "@jupyter-widgets/base",
            "_view_module_version": "1.2.0",
            "_view_name": "StyleView",
            "button_color": null,
            "font_weight": ""
          }
        },
        "6019e1aaee924f1882d13e8c1dcbac98": {
          "model_module": "@jupyter-widgets/output",
          "model_name": "OutputModel",
          "model_module_version": "1.0.0",
          "state": {
            "_dom_classes": [],
            "_model_module": "@jupyter-widgets/output",
            "_model_module_version": "1.0.0",
            "_model_name": "OutputModel",
            "_view_count": null,
            "_view_module": "@jupyter-widgets/output",
            "_view_module_version": "1.0.0",
            "_view_name": "OutputView",
            "layout": "IPY_MODEL_fb08f4243ead4f9993b5ca9275933af7",
            "msg_id": "",
            "outputs": []
          }
        },
        "fb08f4243ead4f9993b5ca9275933af7": {
          "model_module": "@jupyter-widgets/base",
          "model_name": "LayoutModel",
          "model_module_version": "1.2.0",
          "state": {
            "_model_module": "@jupyter-widgets/base",
            "_model_module_version": "1.2.0",
            "_model_name": "LayoutModel",
            "_view_count": null,
            "_view_module": "@jupyter-widgets/base",
            "_view_module_version": "1.2.0",
            "_view_name": "LayoutView",
            "align_content": null,
            "align_items": null,
            "align_self": null,
            "border": null,
            "bottom": null,
            "display": null,
            "flex": null,
            "flex_flow": null,
            "grid_area": null,
            "grid_auto_columns": null,
            "grid_auto_flow": null,
            "grid_auto_rows": null,
            "grid_column": null,
            "grid_gap": null,
            "grid_row": null,
            "grid_template_areas": null,
            "grid_template_columns": null,
            "grid_template_rows": null,
            "height": null,
            "justify_content": null,
            "justify_items": null,
            "left": null,
            "margin": null,
            "max_height": null,
            "max_width": null,
            "min_height": null,
            "min_width": null,
            "object_fit": null,
            "object_position": null,
            "order": null,
            "overflow": null,
            "overflow_x": null,
            "overflow_y": null,
            "padding": null,
            "right": null,
            "top": null,
            "visibility": null,
            "width": null
          }
        },
        "ddfb8c33d1fe4a778bf1ac5459969cb3": {
          "model_module": "@jupyter-widgets/controls",
          "model_name": "ButtonModel",
          "model_module_version": "1.5.0",
          "state": {
            "_dom_classes": [],
            "_model_module": "@jupyter-widgets/controls",
            "_model_module_version": "1.5.0",
            "_model_name": "ButtonModel",
            "_view_count": null,
            "_view_module": "@jupyter-widgets/controls",
            "_view_module_version": "1.5.0",
            "_view_name": "ButtonView",
            "button_style": "",
            "description": "Click to Reveal Answer",
            "disabled": false,
            "icon": "",
            "layout": "IPY_MODEL_abf998b64a0d47089238402188e2d4aa",
            "style": "IPY_MODEL_ab1c8619bd014e539b94e68d704e17f2",
            "tooltip": ""
          }
        },
        "abf998b64a0d47089238402188e2d4aa": {
          "model_module": "@jupyter-widgets/base",
          "model_name": "LayoutModel",
          "model_module_version": "1.2.0",
          "state": {
            "_model_module": "@jupyter-widgets/base",
            "_model_module_version": "1.2.0",
            "_model_name": "LayoutModel",
            "_view_count": null,
            "_view_module": "@jupyter-widgets/base",
            "_view_module_version": "1.2.0",
            "_view_name": "LayoutView",
            "align_content": null,
            "align_items": null,
            "align_self": null,
            "border": null,
            "bottom": null,
            "display": null,
            "flex": null,
            "flex_flow": null,
            "grid_area": null,
            "grid_auto_columns": null,
            "grid_auto_flow": null,
            "grid_auto_rows": null,
            "grid_column": null,
            "grid_gap": null,
            "grid_row": null,
            "grid_template_areas": null,
            "grid_template_columns": null,
            "grid_template_rows": null,
            "height": null,
            "justify_content": null,
            "justify_items": null,
            "left": null,
            "margin": null,
            "max_height": null,
            "max_width": null,
            "min_height": null,
            "min_width": null,
            "object_fit": null,
            "object_position": null,
            "order": null,
            "overflow": null,
            "overflow_x": null,
            "overflow_y": null,
            "padding": null,
            "right": null,
            "top": null,
            "visibility": null,
            "width": null
          }
        },
        "ab1c8619bd014e539b94e68d704e17f2": {
          "model_module": "@jupyter-widgets/controls",
          "model_name": "ButtonStyleModel",
          "model_module_version": "1.5.0",
          "state": {
            "_model_module": "@jupyter-widgets/controls",
            "_model_module_version": "1.5.0",
            "_model_name": "ButtonStyleModel",
            "_view_count": null,
            "_view_module": "@jupyter-widgets/base",
            "_view_module_version": "1.2.0",
            "_view_name": "StyleView",
            "button_color": null,
            "font_weight": ""
          }
        },
        "05f8df174a7c48aabaec7489abd4c982": {
          "model_module": "@jupyter-widgets/output",
          "model_name": "OutputModel",
          "model_module_version": "1.0.0",
          "state": {
            "_dom_classes": [],
            "_model_module": "@jupyter-widgets/output",
            "_model_module_version": "1.0.0",
            "_model_name": "OutputModel",
            "_view_count": null,
            "_view_module": "@jupyter-widgets/output",
            "_view_module_version": "1.0.0",
            "_view_name": "OutputView",
            "layout": "IPY_MODEL_7c9305eaba8c45c6974dfad932170a80",
            "msg_id": "",
            "outputs": []
          }
        },
        "7c9305eaba8c45c6974dfad932170a80": {
          "model_module": "@jupyter-widgets/base",
          "model_name": "LayoutModel",
          "model_module_version": "1.2.0",
          "state": {
            "_model_module": "@jupyter-widgets/base",
            "_model_module_version": "1.2.0",
            "_model_name": "LayoutModel",
            "_view_count": null,
            "_view_module": "@jupyter-widgets/base",
            "_view_module_version": "1.2.0",
            "_view_name": "LayoutView",
            "align_content": null,
            "align_items": null,
            "align_self": null,
            "border": null,
            "bottom": null,
            "display": null,
            "flex": null,
            "flex_flow": null,
            "grid_area": null,
            "grid_auto_columns": null,
            "grid_auto_flow": null,
            "grid_auto_rows": null,
            "grid_column": null,
            "grid_gap": null,
            "grid_row": null,
            "grid_template_areas": null,
            "grid_template_columns": null,
            "grid_template_rows": null,
            "height": null,
            "justify_content": null,
            "justify_items": null,
            "left": null,
            "margin": null,
            "max_height": null,
            "max_width": null,
            "min_height": null,
            "min_width": null,
            "object_fit": null,
            "object_position": null,
            "order": null,
            "overflow": null,
            "overflow_x": null,
            "overflow_y": null,
            "padding": null,
            "right": null,
            "top": null,
            "visibility": null,
            "width": null
          }
        }
      }
    }
  },
  "cells": [
    {
      "cell_type": "markdown",
      "source": [
        "<img src=\"https://github.com/PKhosravi-CityTech/LightCnnRad/raw/main/Images/BioMindLogo.png\" alt=\"BioMind AI Lab Logo\" width=\"150\" height=\"150\" align=\"left\" style=\"margin-bottom: 40px;\"> **Repository Developed by Pegah Khosravi, Principal Investigator of the BioMind AI Lab**\n",
        "\n",
        "Welcome to this repository! This notebook is designed to provide hands-on experience and foundational knowledge in machine learning. It is part of our journey to explore key ML concepts, algorithms, and applications. Whether you're a PhD student, or a master's student, this repository aims to support your learning goals and encourage critical thinking about machine learning systems.\n"
      ],
      "metadata": {
        "id": "klVqqBYFKZ1_"
      }
    },
    {
      "cell_type": "markdown",
      "source": [
        "# Midterm\n",
        "\n",
        "## Midterm Description\n",
        "\n",
        "You will have a maximum of 30 minutes to complete the quiz. However, if you are experiencing high stress or require additional time, you may take up to 1 hour to finish.\n",
        "\n",
        "## Midterm Structure\n",
        "- 6 Short-answer questions\n",
        "- 1 True/False question\n",
        "- 1 Fill-in-the-blank question (with two blanks)\n",
        "- 2 Essay questions\n",
        "\n",
        "## Instructions\n",
        "- For the short-answer questions, select one of the four options and write your answer as A, B, C, or D (capital letters preferred).\n",
        "- For the fill-in-the-blank question, provide one word per blank, separated by a comma (e.g., word1, word2).\n",
        "- For the essay questions, write your explanation and code in Google Colab or any Python-compatible platform.\n",
        "- This is an open-book quiz, so you may use textbooks or other resources—just make sure to work independently and do not use OpenAI or similar AI tools.\n",
        "\n",
        "Follow these instructions carefully. Good luck!"
      ],
      "metadata": {
        "id": "qtrQNHqLKr2R"
      }
    },
    {
      "cell_type": "code",
      "source": [
        "import ipywidgets as widgets\n",
        "from IPython.display import display, Markdown, clear_output\n",
        "\n",
        "# Function to create a question-answer toggle button\n",
        "def create_question(question_text, answer_text):\n",
        "    button = widgets.Button(description=\"Click to Reveal Answer\")\n",
        "    output = widgets.Output()\n",
        "\n",
        "    def reveal_answer(b):\n",
        "        with output:\n",
        "            output.clear_output()\n",
        "            display(Markdown(f\"**Answer:** {answer_text}\"))\n",
        "\n",
        "    button.on_click(reveal_answer)\n",
        "    display(Markdown(f\"**{question_text}**\"), button, output)\n",
        "\n",
        "# Updated list of questions and answers\n",
        "qa_pairs = [\n",
        "    (\"Question 1: In the context of bias-variance tradeoff, what happens when a model has high bias?\\n\"\n",
        "     \"A) The model underfits the data\\n\"\n",
        "     \"B) The model overfits the data\\n\"\n",
        "     \"C) The model generalizes well but is computationally expensive\\n\"\n",
        "     \"D) The model uses too many parameters, leading to poor interpretability\", \"A\"),\n",
        "\n",
        "    (\"Question 2: What is a key advantage of hierarchical clustering over k-Means?\\n\"\n",
        "     \"A) It does not require the number of clusters to be specified in advance\\n\"\n",
        "     \"B) It is always computationally more efficient\\n\"\n",
        "     \"C) It only works well with large datasets\\n\"\n",
        "     \"D) It is a supervised learning algorithm\", \"A\"),\n",
        "\n",
        "    (\"Question 3: Which dimensionality reduction technique uses linear discriminants to separate different classes in a dataset?\\n\"\n",
        "     \"A) Principal Component Analysis (PCA)\\n\"\n",
        "     \"B) t-SNE\\n\"\n",
        "     \"C) Linear Discriminant Analysis (LDA)\\n\"\n",
        "     \"D) Singular Value Decomposition (SVD)\", \"C\"),\n",
        "\n",
        "    (\"Question 4: Which of the following is NOT a characteristic of a Decision Tree?\\n\"\n",
        "     \"A) It can handle both categorical and numerical data\\n\"\n",
        "     \"B) It requires feature scaling for optimal performance\\n\"\n",
        "     \"C) It can suffer from overfitting if not properly pruned\\n\"\n",
        "     \"D) It uses impurity measures such as Gini impurity and entropy\", \"B\"),\n",
        "\n",
        "    (\"Question 5: Which clustering algorithm assigns data points based on their density rather than distance-based centroids?\\n\"\n",
        "     \"A) k-Means\\n\"\n",
        "     \"B) DBSCAN\\n\"\n",
        "     \"C) Hierarchical Clustering\\n\"\n",
        "     \"D) PCA\", \"B\"),\n",
        "\n",
        "    (\"Question 6: Which method is most appropriate for detecting non-linear decision boundaries in classification problems?\\n\"\n",
        "     \"A) Linear Regression\\n\"\n",
        "     \"B) Logistic Regression\\n\"\n",
        "     \"C) Support Vector Machines (SVM) with kernel functions\\n\"\n",
        "     \"D) k-Means Clustering\", \"C\"),\n",
        "\n",
        "    (\"Question 7: True/False? t-SNE and UMAP are primarily used for classification tasks rather than data visualization.\", \"False\"),\n",
        "\n",
        "    (\"Question 8: Fill in the Blank → In boosting algorithms like AdaBoost and XGBoost, each new model is trained to correct the ______ of the previous models by focusing on the ______ examples.\",\n",
        "     \"errors, misclassified\"),\n",
        "]\n",
        "\n",
        "# Display all questions with interactive answer buttons\n",
        "for question, answer in qa_pairs:\n",
        "    create_question(question, answer)"
      ],
      "metadata": {
        "colab": {
          "base_uri": "https://localhost:8080/",
          "height": 629,
          "referenced_widgets": [
            "5f9a64a922c14f539acefd7e22efe51a",
            "309bc0ec20d841b3a7d6a2de6739cb49",
            "0ec1b0e9e3bf40eb8df74222788decee",
            "6408ad7f9e394a18a2b89c03ff4ce9c4",
            "811f1b560a524d65a9cdfe64f18d67c8",
            "2dbd42d401794655a81c3fe81ebb798e",
            "563c7d022da7417b82dcf17e34165ad2",
            "289d7f924d464ade82455d7cc069da05",
            "25d961bd8b314e82adbdf38417a7b29f",
            "aeaf5f88fad64fc39c4c74b2e14a6984",
            "dd1be1b8c1e34aea9670304fa00153e2",
            "07afed13e2844de683597e4f058fb874",
            "5ce7cb924b9f4fbab3451da53bcef881",
            "da534e00b82a4d39bdb1b733150c9324",
            "99b013dada46424d9216fcf2300879e0",
            "a037496285cd4a8ab00fd9b1990152c6",
            "72148cb21d0f4ae49d290bd2662fbc52",
            "886baa18b50f43f1aba5bb2c44756433",
            "29080bf7d0f843ee8766c93366f84676",
            "bf156320b66e474c8d43252f81cd0abf",
            "1f15bb7e8d864a2a83fdbf5ac1d1bc88",
            "c38810940f504b93b15c01a828bef068",
            "a2d66669b3d94614b9b96e6421aa7307",
            "3cf3f3f81cf8485a8e399d7b6f9c0215",
            "ed0e4ae18b874822bfa62a778978fd1d",
            "eece4deec1a148c3b70d8f3898fb0a47",
            "3661fd4db9a14b4d8f275cdb0ef66863",
            "ceb54b9f65174c449417e2d16aa22a98",
            "fa94338748714f73834fc3123e8c6d22",
            "bc13142863ee4a87b22c2748937dc1eb",
            "6eca4a772e4d4dc58deaba1197255b7e",
            "02551099005941a3887f7a98b991c793",
            "18982b5d0f61496e89ae249eea68e5c5",
            "3dc63f735bab482fb3fbb5c3b2d39cc2",
            "77c3c9f1a6f24491a16362c332c76d03",
            "24ba998a955c4eafa3e5e29121c4d734",
            "2abd14bc15ca4ba485d06af5596973e8",
            "07d5575c23b04167b2ab75a2283d6d3c",
            "3689b70b25104809b6ce7f1be87def5c",
            "e686fe73cb604d2c88ce09726fc83973"
          ]
        },
        "id": "Auq2jYv3MwLy",
        "outputId": "bee337c5-e926-40ec-d69a-dc82ab10a7fe"
      },
      "execution_count": null,
      "outputs": [
        {
          "output_type": "display_data",
          "data": {
            "text/plain": [
              "<IPython.core.display.Markdown object>"
            ],
            "text/markdown": "**Question 1: In the context of bias-variance tradeoff, what happens when a model has high bias?\nA) The model underfits the data\nB) The model overfits the data\nC) The model generalizes well but is computationally expensive\nD) The model uses too many parameters, leading to poor interpretability**"
          },
          "metadata": {}
        },
        {
          "output_type": "display_data",
          "data": {
            "text/plain": [
              "Button(description='Click to Reveal Answer', style=ButtonStyle())"
            ],
            "application/vnd.jupyter.widget-view+json": {
              "version_major": 2,
              "version_minor": 0,
              "model_id": "5f9a64a922c14f539acefd7e22efe51a"
            }
          },
          "metadata": {}
        },
        {
          "output_type": "display_data",
          "data": {
            "text/plain": [
              "Output()"
            ],
            "application/vnd.jupyter.widget-view+json": {
              "version_major": 2,
              "version_minor": 0,
              "model_id": "6408ad7f9e394a18a2b89c03ff4ce9c4"
            }
          },
          "metadata": {}
        },
        {
          "output_type": "display_data",
          "data": {
            "text/plain": [
              "<IPython.core.display.Markdown object>"
            ],
            "text/markdown": "**Question 2: What is a key advantage of hierarchical clustering over k-Means?\nA) It does not require the number of clusters to be specified in advance\nB) It is always computationally more efficient\nC) It only works well with large datasets\nD) It is a supervised learning algorithm**"
          },
          "metadata": {}
        },
        {
          "output_type": "display_data",
          "data": {
            "text/plain": [
              "Button(description='Click to Reveal Answer', style=ButtonStyle())"
            ],
            "application/vnd.jupyter.widget-view+json": {
              "version_major": 2,
              "version_minor": 0,
              "model_id": "2dbd42d401794655a81c3fe81ebb798e"
            }
          },
          "metadata": {}
        },
        {
          "output_type": "display_data",
          "data": {
            "text/plain": [
              "Output()"
            ],
            "application/vnd.jupyter.widget-view+json": {
              "version_major": 2,
              "version_minor": 0,
              "model_id": "25d961bd8b314e82adbdf38417a7b29f"
            }
          },
          "metadata": {}
        },
        {
          "output_type": "display_data",
          "data": {
            "text/plain": [
              "<IPython.core.display.Markdown object>"
            ],
            "text/markdown": "**Question 3: Which dimensionality reduction technique uses linear discriminants to separate different classes in a dataset?\nA) Principal Component Analysis (PCA)\nB) t-SNE\nC) Linear Discriminant Analysis (LDA)\nD) Singular Value Decomposition (SVD)**"
          },
          "metadata": {}
        },
        {
          "output_type": "display_data",
          "data": {
            "text/plain": [
              "Button(description='Click to Reveal Answer', style=ButtonStyle())"
            ],
            "application/vnd.jupyter.widget-view+json": {
              "version_major": 2,
              "version_minor": 0,
              "model_id": "dd1be1b8c1e34aea9670304fa00153e2"
            }
          },
          "metadata": {}
        },
        {
          "output_type": "display_data",
          "data": {
            "text/plain": [
              "Output()"
            ],
            "application/vnd.jupyter.widget-view+json": {
              "version_major": 2,
              "version_minor": 0,
              "model_id": "da534e00b82a4d39bdb1b733150c9324"
            }
          },
          "metadata": {}
        },
        {
          "output_type": "display_data",
          "data": {
            "text/plain": [
              "<IPython.core.display.Markdown object>"
            ],
            "text/markdown": "**Question 4: Which of the following is NOT a characteristic of a Decision Tree?\nA) It can handle both categorical and numerical data\nB) It requires feature scaling for optimal performance\nC) It can suffer from overfitting if not properly pruned\nD) It uses impurity measures such as Gini impurity and entropy**"
          },
          "metadata": {}
        },
        {
          "output_type": "display_data",
          "data": {
            "text/plain": [
              "Button(description='Click to Reveal Answer', style=ButtonStyle())"
            ],
            "application/vnd.jupyter.widget-view+json": {
              "version_major": 2,
              "version_minor": 0,
              "model_id": "a037496285cd4a8ab00fd9b1990152c6"
            }
          },
          "metadata": {}
        },
        {
          "output_type": "display_data",
          "data": {
            "text/plain": [
              "Output()"
            ],
            "application/vnd.jupyter.widget-view+json": {
              "version_major": 2,
              "version_minor": 0,
              "model_id": "29080bf7d0f843ee8766c93366f84676"
            }
          },
          "metadata": {}
        },
        {
          "output_type": "display_data",
          "data": {
            "text/plain": [
              "<IPython.core.display.Markdown object>"
            ],
            "text/markdown": "**Question 5: Which clustering algorithm assigns data points based on their density rather than distance-based centroids?\nA) k-Means\nB) DBSCAN\nC) Hierarchical Clustering\nD) PCA**"
          },
          "metadata": {}
        },
        {
          "output_type": "display_data",
          "data": {
            "text/plain": [
              "Button(description='Click to Reveal Answer', style=ButtonStyle())"
            ],
            "application/vnd.jupyter.widget-view+json": {
              "version_major": 2,
              "version_minor": 0,
              "model_id": "1f15bb7e8d864a2a83fdbf5ac1d1bc88"
            }
          },
          "metadata": {}
        },
        {
          "output_type": "display_data",
          "data": {
            "text/plain": [
              "Output()"
            ],
            "application/vnd.jupyter.widget-view+json": {
              "version_major": 2,
              "version_minor": 0,
              "model_id": "3cf3f3f81cf8485a8e399d7b6f9c0215"
            }
          },
          "metadata": {}
        },
        {
          "output_type": "display_data",
          "data": {
            "text/plain": [
              "<IPython.core.display.Markdown object>"
            ],
            "text/markdown": "**Question 6: Which method is most appropriate for detecting non-linear decision boundaries in classification problems?\nA) Linear Regression\nB) Logistic Regression\nC) Support Vector Machines (SVM) with kernel functions\nD) k-Means Clustering**"
          },
          "metadata": {}
        },
        {
          "output_type": "display_data",
          "data": {
            "text/plain": [
              "Button(description='Click to Reveal Answer', style=ButtonStyle())"
            ],
            "application/vnd.jupyter.widget-view+json": {
              "version_major": 2,
              "version_minor": 0,
              "model_id": "eece4deec1a148c3b70d8f3898fb0a47"
            }
          },
          "metadata": {}
        },
        {
          "output_type": "display_data",
          "data": {
            "text/plain": [
              "Output()"
            ],
            "application/vnd.jupyter.widget-view+json": {
              "version_major": 2,
              "version_minor": 0,
              "model_id": "fa94338748714f73834fc3123e8c6d22"
            }
          },
          "metadata": {}
        },
        {
          "output_type": "display_data",
          "data": {
            "text/plain": [
              "<IPython.core.display.Markdown object>"
            ],
            "text/markdown": "**Question 7: True/False? t-SNE and UMAP are primarily used for classification tasks rather than data visualization.**"
          },
          "metadata": {}
        },
        {
          "output_type": "display_data",
          "data": {
            "text/plain": [
              "Button(description='Click to Reveal Answer', style=ButtonStyle())"
            ],
            "application/vnd.jupyter.widget-view+json": {
              "version_major": 2,
              "version_minor": 0,
              "model_id": "6eca4a772e4d4dc58deaba1197255b7e"
            }
          },
          "metadata": {}
        },
        {
          "output_type": "display_data",
          "data": {
            "text/plain": [
              "Output()"
            ],
            "application/vnd.jupyter.widget-view+json": {
              "version_major": 2,
              "version_minor": 0,
              "model_id": "3dc63f735bab482fb3fbb5c3b2d39cc2"
            }
          },
          "metadata": {}
        },
        {
          "output_type": "display_data",
          "data": {
            "text/plain": [
              "<IPython.core.display.Markdown object>"
            ],
            "text/markdown": "**Question 8: Fill in the Blank → In boosting algorithms like AdaBoost and XGBoost, each new model is trained to correct the ______ of the previous models by focusing on the ______ examples.**"
          },
          "metadata": {}
        },
        {
          "output_type": "display_data",
          "data": {
            "text/plain": [
              "Button(description='Click to Reveal Answer', style=ButtonStyle())"
            ],
            "application/vnd.jupyter.widget-view+json": {
              "version_major": 2,
              "version_minor": 0,
              "model_id": "24ba998a955c4eafa3e5e29121c4d734"
            }
          },
          "metadata": {}
        },
        {
          "output_type": "display_data",
          "data": {
            "text/plain": [
              "Output()"
            ],
            "application/vnd.jupyter.widget-view+json": {
              "version_major": 2,
              "version_minor": 0,
              "model_id": "3689b70b25104809b6ce7f1be87def5c"
            }
          },
          "metadata": {}
        }
      ]
    },
    {
      "cell_type": "code",
      "source": [
        "import ipywidgets as widgets\n",
        "from IPython.display import display, Markdown, clear_output\n",
        "\n",
        "# Function to create a question-answer toggle button\n",
        "def create_question(question_text, answer_text):\n",
        "    button = widgets.Button(description=\"Click to Reveal Answer\")\n",
        "    output = widgets.Output()\n",
        "\n",
        "    def reveal_answer(b):\n",
        "        with output:\n",
        "            output.clear_output()\n",
        "            display(Markdown(f\"**Answer:**\\n\\n{answer_text}\"))\n",
        "\n",
        "    button.on_click(reveal_answer)\n",
        "    display(Markdown(question_text), button, output)\n",
        "\n",
        "# Revised question formatting for proper Markdown rendering\n",
        "question_9 = (\n",
        "    \"**Question 9: Essay - Compare and Contrast k-Means Clustering and k-Nearest Neighbors (k-NN)**\\n\\n\"\n",
        "    \"1. **Explain the differences in how they work.**\\n\"\n",
        "    \"2. **Discuss the types of datasets where each algorithm performs well.**\\n\"\n",
        "    \"3. **Provide an example of a real-world use case where one would be preferred over the other.**\"\n",
        ")\n",
        "\n",
        "answer_9 = (\n",
        "    \"**k-Means and k-Nearest Neighbors (k-NN)** are two fundamental machine learning algorithms, but they serve different purposes and operate in distinct ways.\\n\\n\"\n",
        "    \"**k-Means** is an **unsupervised learning algorithm** used for clustering, meaning it finds patterns and groups in data without predefined labels. It works by initializing k centroids, assigning data points to the nearest centroid, and iteratively updating the centroids until clusters stabilize. This makes it particularly useful for identifying natural structures within large, unlabeled datasets.\\n\\n\"\n",
        "    \"In contrast, **k-NN** is a **supervised learning algorithm** used for classification and regression. Given a new data point, k-NN finds the k closest labeled points and assigns the most common class (or averages the values for regression). Unlike k-Means, which works on entire datasets at once, k-NN classifies one instance at a time, making it more flexible but computationally expensive, especially as dataset size increases.\\n\\n\"\n",
        "    \"**k-Means performs best** in scenarios where we need to discover hidden patterns within data, such as customer segmentation in marketing. For example, a retail company might analyze spending behaviors and apply k-Means to group customers into categories like budget shoppers, frequent buyers, and luxury consumers. This allows businesses to develop targeted marketing strategies.\\n\\n\"\n",
        "    \"On the other hand, **k-NN** is more suitable when labels are known and we want to predict a class for new data points. For instance, in medical diagnosis, a k-NN model can classify patients as low, medium, or high risk for heart disease based on past patient records. By comparing a new patient's features (such as cholesterol levels and blood pressure) with similar cases, the model makes a classification without needing complex model training.\\n\\n\"\n",
        "    \"While both algorithms rely on distance-based calculations, their practical use cases differ. **k-Means** is an efficient and scalable algorithm that works well with large datasets but requires the number of clusters to be defined in advance. In contrast, **k-NN** is adaptable to new data but is computationally expensive because it must compare each new point to the entire dataset.\\n\\n\"\n",
        "    \"In summary, **k-Means** is ideal for grouping unlabeled data, while **k-NN** excels in classification tasks where labeled data is available. The choice between them depends on whether the goal is to find hidden patterns or make predictions based on past examples.\"\n",
        ")\n",
        "\n",
        "# Display the question\n",
        "create_question(question_9, answer_9)"
      ],
      "metadata": {
        "colab": {
          "base_uri": "https://localhost:8080/",
          "height": 152,
          "referenced_widgets": [
            "a1f8c81ac3dd450085d65e61f89736db",
            "750d5c1481874eed878a87526932504e",
            "3a5eccf594184ff2b427f31d7468cc33",
            "6019e1aaee924f1882d13e8c1dcbac98",
            "fb08f4243ead4f9993b5ca9275933af7"
          ]
        },
        "id": "ec8bQ0hRP3MI",
        "outputId": "f71683c0-6eb4-45ae-809f-3483dad711b6"
      },
      "execution_count": null,
      "outputs": [
        {
          "output_type": "display_data",
          "data": {
            "text/plain": [
              "<IPython.core.display.Markdown object>"
            ],
            "text/markdown": "**Question 9: Essay - Compare and Contrast k-Means Clustering and k-Nearest Neighbors (k-NN)**\n\n1. **Explain the differences in how they work.**\n2. **Discuss the types of datasets where each algorithm performs well.**\n3. **Provide an example of a real-world use case where one would be preferred over the other.**"
          },
          "metadata": {}
        },
        {
          "output_type": "display_data",
          "data": {
            "text/plain": [
              "Button(description='Click to Reveal Answer', style=ButtonStyle())"
            ],
            "application/vnd.jupyter.widget-view+json": {
              "version_major": 2,
              "version_minor": 0,
              "model_id": "a1f8c81ac3dd450085d65e61f89736db"
            }
          },
          "metadata": {}
        },
        {
          "output_type": "display_data",
          "data": {
            "text/plain": [
              "Output()"
            ],
            "application/vnd.jupyter.widget-view+json": {
              "version_major": 2,
              "version_minor": 0,
              "model_id": "6019e1aaee924f1882d13e8c1dcbac98"
            }
          },
          "metadata": {}
        }
      ]
    },
    {
      "cell_type": "code",
      "source": [
        "import ipywidgets as widgets\n",
        "from IPython.display import display, Markdown, clear_output\n",
        "\n",
        "def create_question(question_text, answer_text):\n",
        "    button = widgets.Button(description=\"Click to Reveal Answer\")\n",
        "    output = widgets.Output()\n",
        "\n",
        "    def reveal_answer(b):\n",
        "        with output:\n",
        "            output.clear_output()\n",
        "            display(Markdown(f\"**Answer:**\\n\\n{answer_text}\"))\n",
        "\n",
        "    button.on_click(reveal_answer)\n",
        "    display(Markdown(question_text), button, output)\n",
        "\n",
        "question_10 = (\n",
        "    \"**Question 10: Essay & Code - Parkinson’s Disease Detection with SVM, PCA, and t-SNE Visualization**\\n\\n\"\n",
        "    \"You are given the Parkinson’s Disease Detection Dataset from the UCI Machine Learning Repository. This dataset contains 22 numerical biomedical voice features extracted from voice recordings of patients with and without Parkinson’s disease. Your task is to predict whether a person has Parkinson’s disease (1) or not (0) using a Support Vector Machine (SVM) classifier—both before and after applying Principal Component Analysis (PCA) for dimensionality reduction. Finally, apply t-SNE to visualize the dataset in 2D after reducing it with PCA.\\n\\n\"\n",
        "    \"**Dataset URL:** [Parkinson’s Dataset](https://archive.ics.uci.edu/ml/machine-learning-databases/parkinsons/parkinsons.data)\\n\\n\"\n",
        "    \"**Your Task:**\\n\\n\"\n",
        "    \"1. Load the dataset and inspect its structure.\\n\"\n",
        "    \"2. Preprocess the data by removing any unnecessary columns (e.g., patient names).\\n\"\n",
        "    \"3. Standardize all numerical features.\\n\"\n",
        "    \"4. Split the dataset into training (80%) and testing (20%) sets.\\n\"\n",
        "    \"5. Train a Support Vector Machine (SVM) classifier on the full dataset (22 features) and evaluate its performance.\\n\"\n",
        "    \"6. Apply PCA and reduce the dataset to the top 10 principal components.\\n\"\n",
        "    \"7. Train a second SVM model on the PCA-transformed dataset and compare the performance metrics (accuracy, precision, recall, F1-score).\\n\"\n",
        "    \"8. Final Task: Apply t-SNE on the PCA-reduced dataset to visualize the data distribution in 2D.\"\n",
        ")\n",
        "\n",
        "answer_10 = (\n",
        "    \"**Python Implementation**\\n\\n\"\n",
        "    \"```python\\n\"\n",
        "    \"import pandas as pd\\n\"\n",
        "    \"import numpy as np\\n\"\n",
        "    \"import matplotlib.pyplot as plt\\n\"\n",
        "    \"import seaborn as sns\\n\"\n",
        "    \"from sklearn.model_selection import train_test_split\\n\"\n",
        "    \"from sklearn.preprocessing import StandardScaler\\n\"\n",
        "    \"from sklearn.decomposition import PCA\\n\"\n",
        "    \"from sklearn.svm import SVC\\n\"\n",
        "    \"from sklearn.manifold import TSNE\\n\"\n",
        "    \"from sklearn.metrics import accuracy_score, classification_report\\n\\n\"\n",
        "    \"# Load the dataset\\n\"\n",
        "    \"url = \\\"https://archive.ics.uci.edu/ml/machine-learning-databases/parkinsons/parkinsons.data\\\"\\n\"\n",
        "    \"data = pd.read_csv(url)\\n\\n\"\n",
        "    \"# Drop the 'name' column\\n\"\n",
        "    \"data.drop(columns=['name'], inplace=True)\\n\\n\"\n",
        "    \"# Define features and target\\n\"\n",
        "    \"X = data.drop(columns=['status'])\\n\"\n",
        "    \"y = data['status']\\n\\n\"\n",
        "    \"# Standardize features\\n\"\n",
        "    \"scaler = StandardScaler()\\n\"\n",
        "    \"X_scaled = scaler.fit_transform(X)\\n\\n\"\n",
        "    \"# Split data into training and testing sets\\n\"\n",
        "    \"X_train, X_test, y_train, y_test = train_test_split(X_scaled, y, test_size=0.2, random_state=42)\\n\\n\"\n",
        "    \"# Train SVM before PCA\\n\"\n",
        "    \"svm_full = SVC(kernel='rbf', random_state=42)\\n\"\n",
        "    \"svm_full.fit(X_train, y_train)\\n\"\n",
        "    \"y_pred_full = svm_full.predict(X_test)\\n\\n\"\n",
        "    \"print('SVM (Before PCA) Accuracy:', accuracy_score(y_test, y_pred_full))\\n\"\n",
        "    \"print(classification_report(y_test, y_pred_full))\\n\\n\"\n",
        "    \"# Apply PCA\\n\"\n",
        "    \"pca = PCA(n_components=10)\\n\"\n",
        "    \"X_train_pca = pca.fit_transform(X_train)\\n\"\n",
        "    \"X_test_pca = pca.transform(X_test)\\n\\n\"\n",
        "    \"# Train SVM after PCA\\n\"\n",
        "    \"svm_pca = SVC(kernel='rbf', random_state=42)\\n\"\n",
        "    \"svm_pca.fit(X_train_pca, y_train)\\n\"\n",
        "    \"y_pred_pca = svm_pca.predict(X_test_pca)\\n\\n\"\n",
        "    \"print('SVM (After PCA) Accuracy:', accuracy_score(y_test, y_pred_pca))\\n\"\n",
        "    \"print(classification_report(y_test, y_pred_pca))\\n\\n\"\n",
        "    \"# t-SNE Visualization\\n\"\n",
        "    \"tsne = TSNE(n_components=2, perplexity=30, random_state=42)\\n\"\n",
        "    \"X_tsne = tsne.fit_transform(X_train_pca)\\n\\n\"\n",
        "    \"plt.figure(figsize=(10, 6))\\n\"\n",
        "    \"sns.scatterplot(x=X_tsne[:,0], y=X_tsne[:,1], hue=y_train, palette='coolwarm', alpha=0.7)\\n\"\n",
        "    \"plt.title('t-SNE Visualization (After PCA)')\\n\"\n",
        "    \"plt.xlabel('t-SNE Component 1')\\n\"\n",
        "    \"plt.ylabel('t-SNE Component 2')\\n\"\n",
        "    \"plt.legend(['Healthy (0)', 'Parkinson’s (1)'])\\n\"\n",
        "    \"plt.show()\\n\"\n",
        "    \"```\"\n",
        ")\n",
        "\n",
        "create_question(question_10, answer_10)"
      ],
      "metadata": {
        "colab": {
          "base_uri": "https://localhost:8080/",
          "height": 361,
          "referenced_widgets": [
            "ddfb8c33d1fe4a778bf1ac5459969cb3",
            "abf998b64a0d47089238402188e2d4aa",
            "ab1c8619bd014e539b94e68d704e17f2",
            "05f8df174a7c48aabaec7489abd4c982",
            "7c9305eaba8c45c6974dfad932170a80"
          ]
        },
        "id": "vJR5Y-EaSHAV",
        "outputId": "e7638189-3f53-405e-b151-dcb95c26452c"
      },
      "execution_count": null,
      "outputs": [
        {
          "output_type": "display_data",
          "data": {
            "text/plain": [
              "<IPython.core.display.Markdown object>"
            ],
            "text/markdown": "**Question 10: Essay & Code - Parkinson’s Disease Detection with SVM, PCA, and t-SNE Visualization**\n\nYou are given the Parkinson’s Disease Detection Dataset from the UCI Machine Learning Repository. This dataset contains 22 numerical biomedical voice features extracted from voice recordings of patients with and without Parkinson’s disease. Your task is to predict whether a person has Parkinson’s disease (1) or not (0) using a Support Vector Machine (SVM) classifier—both before and after applying Principal Component Analysis (PCA) for dimensionality reduction. Finally, apply t-SNE to visualize the dataset in 2D after reducing it with PCA.\n\n**Dataset URL:** [Parkinson’s Dataset](https://archive.ics.uci.edu/ml/machine-learning-databases/parkinsons/parkinsons.data)\n\n**Your Task:**\n\n1. Load the dataset and inspect its structure.\n2. Preprocess the data by removing any unnecessary columns (e.g., patient names).\n3. Standardize all numerical features.\n4. Split the dataset into training (80%) and testing (20%) sets.\n5. Train a Support Vector Machine (SVM) classifier on the full dataset (22 features) and evaluate its performance.\n6. Apply PCA and reduce the dataset to the top 10 principal components.\n7. Train a second SVM model on the PCA-transformed dataset and compare the performance metrics (accuracy, precision, recall, F1-score).\n8. Final Task: Apply t-SNE on the PCA-reduced dataset to visualize the data distribution in 2D."
          },
          "metadata": {}
        },
        {
          "output_type": "display_data",
          "data": {
            "text/plain": [
              "Button(description='Click to Reveal Answer', style=ButtonStyle())"
            ],
            "application/vnd.jupyter.widget-view+json": {
              "version_major": 2,
              "version_minor": 0,
              "model_id": "ddfb8c33d1fe4a778bf1ac5459969cb3"
            }
          },
          "metadata": {}
        },
        {
          "output_type": "display_data",
          "data": {
            "text/plain": [
              "Output()"
            ],
            "application/vnd.jupyter.widget-view+json": {
              "version_major": 2,
              "version_minor": 0,
              "model_id": "05f8df174a7c48aabaec7489abd4c982"
            }
          },
          "metadata": {}
        }
      ]
    },
    {
      "cell_type": "markdown",
      "source": [
        "### 📥 Download the Parkinson’s Disease Dataset from the UCI Repository and Load Directly into Colab  \n",
        "#### 🔗 Dataset Link: [Parkinson’s Disease Detection Dataset](https://archive.ics.uci.edu/ml/machine-learning-databases/parkinsons/parkinsons.data)"
      ],
      "metadata": {
        "id": "ZSzr1RCWYeJ6"
      }
    },
    {
      "cell_type": "code",
      "source": [
        "import pandas as pd\n",
        "import numpy as np\n",
        "import matplotlib.pyplot as plt\n",
        "import seaborn as sns\n",
        "from sklearn.model_selection import train_test_split\n",
        "from sklearn.preprocessing import StandardScaler\n",
        "from sklearn.decomposition import PCA\n",
        "from sklearn.svm import SVC\n",
        "from sklearn.manifold import TSNE\n",
        "from sklearn.metrics import accuracy_score, classification_report\n",
        "\n",
        "# Load the dataset\n",
        "url = \"https://archive.ics.uci.edu/ml/machine-learning-databases/parkinsons/parkinsons.data\"\n",
        "data = pd.read_csv(url)\n",
        "\n",
        "# Drop the 'name' column\n",
        "data.drop(columns=['name'], inplace=True)\n",
        "\n",
        "# Define features and target\n",
        "X = data.drop(columns=['status'])\n",
        "y = data['status']\n",
        "\n",
        "# Standardize features\n",
        "scaler = StandardScaler()\n",
        "X_scaled = scaler.fit_transform(X)\n",
        "\n",
        "# Split data into training and testing sets\n",
        "X_train, X_test, y_train, y_test = train_test_split(X_scaled, y, test_size=0.2, random_state=42)\n",
        "\n",
        "# Train SVM before PCA\n",
        "svm_full = SVC(kernel='rbf', random_state=42)\n",
        "svm_full.fit(X_train, y_train)\n",
        "y_pred_full = svm_full.predict(X_test)\n",
        "\n",
        "print('SVM (Before PCA) Accuracy:', accuracy_score(y_test, y_pred_full))\n",
        "print(classification_report(y_test, y_pred_full))\n",
        "\n",
        "# Apply PCA\n",
        "pca = PCA(n_components=10)\n",
        "X_train_pca = pca.fit_transform(X_train)\n",
        "X_test_pca = pca.transform(X_test)\n",
        "\n",
        "# Train SVM after PCA\n",
        "svm_pca = SVC(kernel='rbf', random_state=42)\n",
        "svm_pca.fit(X_train_pca, y_train)\n",
        "y_pred_pca = svm_pca.predict(X_test_pca)\n",
        "\n",
        "print('SVM (After PCA) Accuracy:', accuracy_score(y_test, y_pred_pca))\n",
        "print(classification_report(y_test, y_pred_pca))\n",
        "\n",
        "# t-SNE Visualization\n",
        "tsne = TSNE(n_components=2, perplexity=30, random_state=42)\n",
        "X_tsne = tsne.fit_transform(X_train_pca)\n",
        "\n",
        "plt.figure(figsize=(10, 6))\n",
        "sns.scatterplot(x=X_tsne[:,0], y=X_tsne[:,1], hue=y_train, palette='coolwarm', alpha=0.7)\n",
        "plt.title('t-SNE Visualization (After PCA)')\n",
        "plt.xlabel('t-SNE Component 1')\n",
        "plt.ylabel('t-SNE Component 2')\n",
        "plt.legend(['Healthy (0)', 'Parkinson’s (1)'])\n",
        "plt.show()"
      ],
      "metadata": {
        "colab": {
          "base_uri": "https://localhost:8080/",
          "height": 911
        },
        "id": "fNg-Of3tVPPI",
        "outputId": "061d0962-9944-4f61-e1c7-ea3f9da2d8d5"
      },
      "execution_count": null,
      "outputs": [
        {
          "output_type": "stream",
          "name": "stdout",
          "text": [
            "SVM (Before PCA) Accuracy: 0.8974358974358975\n",
            "              precision    recall  f1-score   support\n",
            "\n",
            "           0       1.00      0.43      0.60         7\n",
            "           1       0.89      1.00      0.94        32\n",
            "\n",
            "    accuracy                           0.90        39\n",
            "   macro avg       0.94      0.71      0.77        39\n",
            "weighted avg       0.91      0.90      0.88        39\n",
            "\n",
            "SVM (After PCA) Accuracy: 0.8974358974358975\n",
            "              precision    recall  f1-score   support\n",
            "\n",
            "           0       1.00      0.43      0.60         7\n",
            "           1       0.89      1.00      0.94        32\n",
            "\n",
            "    accuracy                           0.90        39\n",
            "   macro avg       0.94      0.71      0.77        39\n",
            "weighted avg       0.91      0.90      0.88        39\n",
            "\n"
          ]
        },
        {
          "output_type": "display_data",
          "data": {
            "text/plain": [
              "<Figure size 1000x600 with 1 Axes>"
            ],
            "image/png": "[encoded data removed]"
          },
          "metadata": {}
        }
      ]
    }
  ]
}